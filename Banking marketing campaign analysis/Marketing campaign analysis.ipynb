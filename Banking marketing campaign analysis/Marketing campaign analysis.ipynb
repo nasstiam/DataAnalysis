{
 "cells": [
  {
   "cell_type": "markdown",
   "metadata": {},
   "source": [
    "# Marketing campaign analysis\n"
   ]
  },
  {
   "cell_type": "markdown",
   "metadata": {},
   "source": [
    "### Data Description"
   ]
  },
  {
   "cell_type": "markdown",
   "metadata": {},
   "source": [
    "File database.db is based on framework sqlite3"
   ]
  },
  {
   "cell_type": "code",
   "execution_count": 116,
   "metadata": {},
   "outputs": [
    {
     "data": {
      "text/html": [
       "<div>\n",
       "<style scoped>\n",
       "    .dataframe tbody tr th:only-of-type {\n",
       "        vertical-align: middle;\n",
       "    }\n",
       "\n",
       "    .dataframe tbody tr th {\n",
       "        vertical-align: top;\n",
       "    }\n",
       "\n",
       "    .dataframe thead th {\n",
       "        text-align: right;\n",
       "    }\n",
       "</style>\n",
       "<table border=\"1\" class=\"dataframe\">\n",
       "  <thead>\n",
       "    <tr style=\"text-align: right;\">\n",
       "      <th></th>\n",
       "      <th>client_id</th>\n",
       "      <th>segment</th>\n",
       "      <th>period</th>\n",
       "      <th>product</th>\n",
       "      <th>pl</th>\n",
       "    </tr>\n",
       "  </thead>\n",
       "  <tbody>\n",
       "    <tr>\n",
       "      <th>0</th>\n",
       "      <td>ZDosW1zUAi</td>\n",
       "      <td>Массовый</td>\n",
       "      <td>p_1</td>\n",
       "      <td>Кредит</td>\n",
       "      <td>9.018067</td>\n",
       "    </tr>\n",
       "    <tr>\n",
       "      <th>1</th>\n",
       "      <td>wVRHQ9hzrw</td>\n",
       "      <td>Массовый</td>\n",
       "      <td>p_1</td>\n",
       "      <td>Кредит</td>\n",
       "      <td>18.889585</td>\n",
       "    </tr>\n",
       "    <tr>\n",
       "      <th>2</th>\n",
       "      <td>6DZQIaOyL3</td>\n",
       "      <td>Массовый</td>\n",
       "      <td>p_1</td>\n",
       "      <td>Кредит</td>\n",
       "      <td>0.369257</td>\n",
       "    </tr>\n",
       "    <tr>\n",
       "      <th>3</th>\n",
       "      <td>jDwO0sMhL2</td>\n",
       "      <td>Массовый</td>\n",
       "      <td>p_1</td>\n",
       "      <td>Кредит</td>\n",
       "      <td>124.315319</td>\n",
       "    </tr>\n",
       "    <tr>\n",
       "      <th>4</th>\n",
       "      <td>FXIJUkgjLy</td>\n",
       "      <td>Массовый</td>\n",
       "      <td>p_1</td>\n",
       "      <td>Кредит</td>\n",
       "      <td>41.287831</td>\n",
       "    </tr>\n",
       "    <tr>\n",
       "      <th>...</th>\n",
       "      <td>...</td>\n",
       "      <td>...</td>\n",
       "      <td>...</td>\n",
       "      <td>...</td>\n",
       "      <td>...</td>\n",
       "    </tr>\n",
       "    <tr>\n",
       "      <th>92604</th>\n",
       "      <td>G8E6dyKT3k</td>\n",
       "      <td>Массовый</td>\n",
       "      <td>p_2</td>\n",
       "      <td>Банковская карта</td>\n",
       "      <td>17.362040</td>\n",
       "    </tr>\n",
       "    <tr>\n",
       "      <th>92605</th>\n",
       "      <td>10OPeJCF1l</td>\n",
       "      <td>Массовый</td>\n",
       "      <td>p_2</td>\n",
       "      <td>Банковская карта</td>\n",
       "      <td>1.861434</td>\n",
       "    </tr>\n",
       "    <tr>\n",
       "      <th>92606</th>\n",
       "      <td>BMN762bZh5</td>\n",
       "      <td>Верхний</td>\n",
       "      <td>p_2</td>\n",
       "      <td>Банковская карта</td>\n",
       "      <td>78.430698</td>\n",
       "    </tr>\n",
       "    <tr>\n",
       "      <th>92607</th>\n",
       "      <td>FcB9pJHGVX</td>\n",
       "      <td>Стандартный</td>\n",
       "      <td>p_2</td>\n",
       "      <td>Банковская карта</td>\n",
       "      <td>16.107313</td>\n",
       "    </tr>\n",
       "    <tr>\n",
       "      <th>92608</th>\n",
       "      <td>gMu2eImQHH</td>\n",
       "      <td>Стандартный</td>\n",
       "      <td>p_2</td>\n",
       "      <td>Банковская карта</td>\n",
       "      <td>16.406641</td>\n",
       "    </tr>\n",
       "  </tbody>\n",
       "</table>\n",
       "<p>92609 rows × 5 columns</p>\n",
       "</div>"
      ],
      "text/plain": [
       "        client_id      segment period           product          pl\n",
       "0      ZDosW1zUAi     Массовый    p_1            Кредит    9.018067\n",
       "1      wVRHQ9hzrw     Массовый    p_1            Кредит   18.889585\n",
       "2      6DZQIaOyL3     Массовый    p_1            Кредит    0.369257\n",
       "3      jDwO0sMhL2     Массовый    p_1            Кредит  124.315319\n",
       "4      FXIJUkgjLy     Массовый    p_1            Кредит   41.287831\n",
       "...           ...          ...    ...               ...         ...\n",
       "92604  G8E6dyKT3k     Массовый    p_2  Банковская карта   17.362040\n",
       "92605  10OPeJCF1l     Массовый    p_2  Банковская карта    1.861434\n",
       "92606  BMN762bZh5      Верхний    p_2  Банковская карта   78.430698\n",
       "92607  FcB9pJHGVX  Стандартный    p_2  Банковская карта   16.107313\n",
       "92608  gMu2eImQHH  Стандартный    p_2  Банковская карта   16.406641\n",
       "\n",
       "[92609 rows x 5 columns]"
      ]
     },
     "execution_count": 116,
     "metadata": {},
     "output_type": "execute_result"
    }
   ],
   "source": [
    "import pandas as pd\n",
    "import sqlite3 as sql\n",
    "import matplotlib as plt\n",
    "import seaborn as sns\n",
    "import numpy as np\n",
    "\n",
    "query = 'SELECT * FROM pl'\n",
    "con = sql.connect('database.db')\n",
    "df = pd.read_sql_query(sql = query, con=con)\n",
    "con.close()\n",
    "\n",
    "df"
   ]
  },
  {
   "cell_type": "raw",
   "metadata": {},
   "source": [
    "   The database stores 2 tables: pl and campaign. The keys for linking these tables is the client_id field. The pl table contains information about NOR (net operating income) from a client with a product by period. The campaign table stores data about the marketing campaign that took place between the reporting periods \"p_1\" and \"p_2\".<br>\n",
    "Table pl:\n",
    "   - client_id - client's id \n",
    "   - segment - client segment within SMB (Medium and small businesses)\n",
    "   - period - period for calculating the bank's NPV from the product used by the client\n",
    "   - product - bank's product \n",
    "   - pl -  net operating income in thousands of rubles\n",
    "   \n",
    "If in any period the client does not have information about the client/product, it means that during this period the client was not at the bank/the client did not use the product.\n",
    "\n",
    "Table campaign:\n",
    "- client_id - client's id \n",
    "- product - bank's product \n",
    "- response - response status on manager's commercial proposal\n",
    "- manager_id - client's manager id"
   ]
  },
  {
   "cell_type": "markdown",
   "metadata": {},
   "source": [
    "### Tasks\n",
    "\n",
    "1) Calculate the average net operating income and the number of customers in each segment by period.<br>\n",
    "2) Calculate the average net operating income by product and seegment and the number of customers with the product for each segment by period.<br>\n",
    "3) Estimate the outflow of customers from products in period p_2.<br>\n",
    "4) Calculate the amount of net operating income raised by each manager during the marketing campaign.<br>\n",
    "5) Evaluate the effectiveness of a marketing campaign."
   ]
  },
  {
   "cell_type": "code",
   "execution_count": 49,
   "metadata": {},
   "outputs": [
    {
     "data": {
      "text/plain": [
       "24992"
      ]
     },
     "execution_count": 49,
     "metadata": {},
     "output_type": "execute_result"
    }
   ],
   "source": [
    "# number of unique clients in both periods\n",
    "df.client_id.nunique()"
   ]
  },
  {
   "cell_type": "code",
   "execution_count": 50,
   "metadata": {},
   "outputs": [
    {
     "data": {
      "text/plain": [
       "24463"
      ]
     },
     "execution_count": 50,
     "metadata": {},
     "output_type": "execute_result"
    }
   ],
   "source": [
    "# number of unique clients in 1st period\n",
    "df[df['period'] =='p_1'].client_id.nunique()"
   ]
  },
  {
   "cell_type": "code",
   "execution_count": 51,
   "metadata": {},
   "outputs": [
    {
     "data": {
      "text/plain": [
       "24646"
      ]
     },
     "execution_count": 51,
     "metadata": {},
     "output_type": "execute_result"
    }
   ],
   "source": [
    "# number of unique clients in 2nd period\n",
    "df[df['period'] =='p_2'].client_id.nunique()"
   ]
  },
  {
   "cell_type": "code",
   "execution_count": 52,
   "metadata": {},
   "outputs": [
    {
     "data": {
      "text/plain": [
       "array(['Массовый', 'Стандартный', 'Верхний'], dtype=object)"
      ]
     },
     "execution_count": 52,
     "metadata": {},
     "output_type": "execute_result"
    }
   ],
   "source": [
    "# what segments exist\n",
    "df['segment'].unique()"
   ]
  },
  {
   "cell_type": "code",
   "execution_count": 53,
   "metadata": {},
   "outputs": [
    {
     "data": {
      "text/plain": [
       "array(['Кредит', 'РКО', 'Депозит', 'Эквайринг', 'Банковская карта'],\n",
       "      dtype=object)"
      ]
     },
     "execution_count": 53,
     "metadata": {},
     "output_type": "execute_result"
    }
   ],
   "source": [
    "# types of banking broducts\n",
    "df['product'].unique()"
   ]
  },
  {
   "cell_type": "code",
   "execution_count": 54,
   "metadata": {},
   "outputs": [
    {
     "data": {
      "text/plain": [
       "array(['p_1', 'p_2'], dtype=object)"
      ]
     },
     "execution_count": 54,
     "metadata": {},
     "output_type": "execute_result"
    }
   ],
   "source": [
    "df['period'].unique()"
   ]
  },
  {
   "cell_type": "code",
   "execution_count": 55,
   "metadata": {},
   "outputs": [
    {
     "data": {
      "text/plain": [
       "0"
      ]
     },
     "execution_count": 55,
     "metadata": {},
     "output_type": "execute_result"
    }
   ],
   "source": [
    "# check missing values\n",
    "df.isna().sum().sum()"
   ]
  },
  {
   "cell_type": "code",
   "execution_count": 314,
   "metadata": {},
   "outputs": [
    {
     "data": {
      "text/html": [
       "<div>\n",
       "<style scoped>\n",
       "    .dataframe tbody tr th:only-of-type {\n",
       "        vertical-align: middle;\n",
       "    }\n",
       "\n",
       "    .dataframe tbody tr th {\n",
       "        vertical-align: top;\n",
       "    }\n",
       "\n",
       "    .dataframe thead th {\n",
       "        text-align: right;\n",
       "    }\n",
       "</style>\n",
       "<table border=\"1\" class=\"dataframe\">\n",
       "  <thead>\n",
       "    <tr style=\"text-align: right;\">\n",
       "      <th></th>\n",
       "      <th>client_id</th>\n",
       "      <th>segment</th>\n",
       "      <th>period</th>\n",
       "      <th>product</th>\n",
       "      <th>pl</th>\n",
       "    </tr>\n",
       "  </thead>\n",
       "  <tbody>\n",
       "    <tr>\n",
       "      <th>0</th>\n",
       "      <td>ZDosW1zUAi</td>\n",
       "      <td>mass</td>\n",
       "      <td>p_1</td>\n",
       "      <td>loan</td>\n",
       "      <td>9.018067</td>\n",
       "    </tr>\n",
       "    <tr>\n",
       "      <th>1</th>\n",
       "      <td>wVRHQ9hzrw</td>\n",
       "      <td>mass</td>\n",
       "      <td>p_1</td>\n",
       "      <td>loan</td>\n",
       "      <td>18.889585</td>\n",
       "    </tr>\n",
       "    <tr>\n",
       "      <th>2</th>\n",
       "      <td>6DZQIaOyL3</td>\n",
       "      <td>mass</td>\n",
       "      <td>p_1</td>\n",
       "      <td>loan</td>\n",
       "      <td>0.369257</td>\n",
       "    </tr>\n",
       "    <tr>\n",
       "      <th>3</th>\n",
       "      <td>jDwO0sMhL2</td>\n",
       "      <td>mass</td>\n",
       "      <td>p_1</td>\n",
       "      <td>loan</td>\n",
       "      <td>124.315319</td>\n",
       "    </tr>\n",
       "    <tr>\n",
       "      <th>4</th>\n",
       "      <td>FXIJUkgjLy</td>\n",
       "      <td>mass</td>\n",
       "      <td>p_1</td>\n",
       "      <td>loan</td>\n",
       "      <td>41.287831</td>\n",
       "    </tr>\n",
       "  </tbody>\n",
       "</table>\n",
       "</div>"
      ],
      "text/plain": [
       "    client_id segment period product          pl\n",
       "0  ZDosW1zUAi    mass    p_1    loan    9.018067\n",
       "1  wVRHQ9hzrw    mass    p_1    loan   18.889585\n",
       "2  6DZQIaOyL3    mass    p_1    loan    0.369257\n",
       "3  jDwO0sMhL2    mass    p_1    loan  124.315319\n",
       "4  FXIJUkgjLy    mass    p_1    loan   41.287831"
      ]
     },
     "execution_count": 314,
     "metadata": {},
     "output_type": "execute_result"
    }
   ],
   "source": [
    "# replace titles for products and segments with the following:\n",
    "products = {'Кредит': 'loan', \n",
    "            'РКО': 'settlement and cash services',  \n",
    "            'Депозит': 'deposit', \n",
    "            'Эквайринг': 'acquiring', \n",
    "            'Банковская карта': 'banking card'}\n",
    "\n",
    "segments = {'Массовый': 'mass',\n",
    "            'Стандартный': 'standart',\n",
    "            'Верхний': 'upper'}\n",
    "\n",
    "\n",
    "df['product'].replace(products, inplace=True)\n",
    "df['segment'].replace(segments, inplace=True)\n",
    "df.head(5)"
   ]
  },
  {
   "cell_type": "markdown",
   "metadata": {},
   "source": [
    "### 1. Calculate the average net operating income and the number of customers in each segment by period."
   ]
  },
  {
   "cell_type": "code",
   "execution_count": 315,
   "metadata": {},
   "outputs": [
    {
     "data": {
      "text/html": [
       "<div>\n",
       "<style scoped>\n",
       "    .dataframe tbody tr th:only-of-type {\n",
       "        vertical-align: middle;\n",
       "    }\n",
       "\n",
       "    .dataframe tbody tr th {\n",
       "        vertical-align: top;\n",
       "    }\n",
       "\n",
       "    .dataframe thead tr th {\n",
       "        text-align: left;\n",
       "    }\n",
       "\n",
       "    .dataframe thead tr:last-of-type th {\n",
       "        text-align: right;\n",
       "    }\n",
       "</style>\n",
       "<table border=\"1\" class=\"dataframe\">\n",
       "  <thead>\n",
       "    <tr>\n",
       "      <th></th>\n",
       "      <th colspan=\"2\" halign=\"left\">avg_pl</th>\n",
       "      <th colspan=\"2\" halign=\"left\">num_of_unique_clients</th>\n",
       "    </tr>\n",
       "    <tr>\n",
       "      <th>period</th>\n",
       "      <th>p_1</th>\n",
       "      <th>p_2</th>\n",
       "      <th>p_1</th>\n",
       "      <th>p_2</th>\n",
       "    </tr>\n",
       "    <tr>\n",
       "      <th>segment</th>\n",
       "      <th></th>\n",
       "      <th></th>\n",
       "      <th></th>\n",
       "      <th></th>\n",
       "    </tr>\n",
       "  </thead>\n",
       "  <tbody>\n",
       "    <tr>\n",
       "      <th>mass</th>\n",
       "      <td>19.729266</td>\n",
       "      <td>23.273464</td>\n",
       "      <td>17207</td>\n",
       "      <td>17330</td>\n",
       "    </tr>\n",
       "    <tr>\n",
       "      <th>standart</th>\n",
       "      <td>40.282587</td>\n",
       "      <td>46.503397</td>\n",
       "      <td>6061</td>\n",
       "      <td>6110</td>\n",
       "    </tr>\n",
       "    <tr>\n",
       "      <th>upper</th>\n",
       "      <td>79.108293</td>\n",
       "      <td>89.650947</td>\n",
       "      <td>1195</td>\n",
       "      <td>1206</td>\n",
       "    </tr>\n",
       "  </tbody>\n",
       "</table>\n",
       "</div>"
      ],
      "text/plain": [
       "             avg_pl            num_of_unique_clients       \n",
       "period          p_1        p_2                   p_1    p_2\n",
       "segment                                                    \n",
       "mass      19.729266  23.273464                 17207  17330\n",
       "standart  40.282587  46.503397                  6061   6110\n",
       "upper     79.108293  89.650947                  1195   1206"
      ]
     },
     "execution_count": 315,
     "metadata": {},
     "output_type": "execute_result"
    }
   ],
   "source": [
    "(\n",
    "    df.groupby(['segment', 'period']).\n",
    "   agg({'pl': 'mean', 'client_id': 'nunique'}).reset_index().\n",
    "   rename(columns={'pl': 'avg_pl', 'client_id': 'num_of_unique_clients'}).\n",
    "   pivot_table(index=['segment'], columns=['period'], values=['avg_pl', 'num_of_unique_clients'])\n",
    ")"
   ]
  },
  {
   "cell_type": "code",
   "execution_count": 316,
   "metadata": {},
   "outputs": [
    {
     "data": {
      "text/html": [
       "<div>\n",
       "<style scoped>\n",
       "    .dataframe tbody tr th:only-of-type {\n",
       "        vertical-align: middle;\n",
       "    }\n",
       "\n",
       "    .dataframe tbody tr th {\n",
       "        vertical-align: top;\n",
       "    }\n",
       "\n",
       "    .dataframe thead tr th {\n",
       "        text-align: left;\n",
       "    }\n",
       "\n",
       "    .dataframe thead tr:last-of-type th {\n",
       "        text-align: right;\n",
       "    }\n",
       "</style>\n",
       "<table border=\"1\" class=\"dataframe\">\n",
       "  <thead>\n",
       "    <tr>\n",
       "      <th></th>\n",
       "      <th colspan=\"2\" halign=\"left\">avg_pl</th>\n",
       "      <th colspan=\"2\" halign=\"left\">num_of_clients</th>\n",
       "    </tr>\n",
       "    <tr>\n",
       "      <th>period</th>\n",
       "      <th>p_1</th>\n",
       "      <th>p_2</th>\n",
       "      <th>p_1</th>\n",
       "      <th>p_2</th>\n",
       "    </tr>\n",
       "    <tr>\n",
       "      <th>segment</th>\n",
       "      <th></th>\n",
       "      <th></th>\n",
       "      <th></th>\n",
       "      <th></th>\n",
       "    </tr>\n",
       "  </thead>\n",
       "  <tbody>\n",
       "    <tr>\n",
       "      <th>mass</th>\n",
       "      <td>19.729266</td>\n",
       "      <td>23.273464</td>\n",
       "      <td>29032</td>\n",
       "      <td>35950</td>\n",
       "    </tr>\n",
       "    <tr>\n",
       "      <th>standart</th>\n",
       "      <td>40.282587</td>\n",
       "      <td>46.503397</td>\n",
       "      <td>10370</td>\n",
       "      <td>12818</td>\n",
       "    </tr>\n",
       "    <tr>\n",
       "      <th>upper</th>\n",
       "      <td>79.108293</td>\n",
       "      <td>89.650947</td>\n",
       "      <td>1995</td>\n",
       "      <td>2444</td>\n",
       "    </tr>\n",
       "  </tbody>\n",
       "</table>\n",
       "</div>"
      ],
      "text/plain": [
       "             avg_pl            num_of_clients       \n",
       "period          p_1        p_2            p_1    p_2\n",
       "segment                                             \n",
       "mass      19.729266  23.273464          29032  35950\n",
       "standart  40.282587  46.503397          10370  12818\n",
       "upper     79.108293  89.650947           1995   2444"
      ]
     },
     "execution_count": 316,
     "metadata": {},
     "output_type": "execute_result"
    }
   ],
   "source": [
    "(\n",
    "    df.groupby(['segment', 'period']).\n",
    "   agg({'pl': 'mean', 'client_id': 'count'}).reset_index().\n",
    "   rename(columns={'pl': 'avg_pl', 'client_id': 'num_of_clients'}).\n",
    "   pivot_table(index=['segment'], columns=['period'], values=['avg_pl', 'num_of_clients'])\n",
    ")"
   ]
  },
  {
   "cell_type": "raw",
   "metadata": {},
   "source": [
    "Net operating income and number of clients increased in each segment in 2nd period\n",
    "Number of num_of_unique_clients is less than num_of_clients, that means that clients on the average have more than 1 product in bank\n",
    "let's count how many products clients have in each segment in each period on the average"
   ]
  },
  {
   "cell_type": "code",
   "execution_count": 317,
   "metadata": {},
   "outputs": [
    {
     "data": {
      "text/html": [
       "<div>\n",
       "<style scoped>\n",
       "    .dataframe tbody tr th:only-of-type {\n",
       "        vertical-align: middle;\n",
       "    }\n",
       "\n",
       "    .dataframe tbody tr th {\n",
       "        vertical-align: top;\n",
       "    }\n",
       "\n",
       "    .dataframe thead th {\n",
       "        text-align: right;\n",
       "    }\n",
       "</style>\n",
       "<table border=\"1\" class=\"dataframe\">\n",
       "  <thead>\n",
       "    <tr style=\"text-align: right;\">\n",
       "      <th></th>\n",
       "      <th>segment</th>\n",
       "      <th>period</th>\n",
       "      <th>average_num_of_products_per_client</th>\n",
       "    </tr>\n",
       "  </thead>\n",
       "  <tbody>\n",
       "    <tr>\n",
       "      <th>0</th>\n",
       "      <td>mass</td>\n",
       "      <td>p_1</td>\n",
       "      <td>1.69</td>\n",
       "    </tr>\n",
       "    <tr>\n",
       "      <th>1</th>\n",
       "      <td>mass</td>\n",
       "      <td>p_2</td>\n",
       "      <td>2.07</td>\n",
       "    </tr>\n",
       "    <tr>\n",
       "      <th>2</th>\n",
       "      <td>standart</td>\n",
       "      <td>p_1</td>\n",
       "      <td>1.71</td>\n",
       "    </tr>\n",
       "    <tr>\n",
       "      <th>3</th>\n",
       "      <td>standart</td>\n",
       "      <td>p_2</td>\n",
       "      <td>2.10</td>\n",
       "    </tr>\n",
       "    <tr>\n",
       "      <th>4</th>\n",
       "      <td>upper</td>\n",
       "      <td>p_1</td>\n",
       "      <td>1.67</td>\n",
       "    </tr>\n",
       "    <tr>\n",
       "      <th>5</th>\n",
       "      <td>upper</td>\n",
       "      <td>p_2</td>\n",
       "      <td>2.03</td>\n",
       "    </tr>\n",
       "  </tbody>\n",
       "</table>\n",
       "</div>"
      ],
      "text/plain": [
       "    segment period  average_num_of_products_per_client\n",
       "0      mass    p_1                                1.69\n",
       "1      mass    p_2                                2.07\n",
       "2  standart    p_1                                1.71\n",
       "3  standart    p_2                                2.10\n",
       "4     upper    p_1                                1.67\n",
       "5     upper    p_2                                2.03"
      ]
     },
     "execution_count": 317,
     "metadata": {},
     "output_type": "execute_result"
    }
   ],
   "source": [
    "avg_num_of_clients_by_segment = (\n",
    "    df.groupby(['segment', 'period', 'client_id']).\n",
    "    agg({'product': 'nunique'}).reset_index().\n",
    "    rename(columns={'product': 'products_per_client'}).\n",
    "    groupby(['segment', 'period']).agg({'products_per_client': 'mean'}).\n",
    "    round(2).reset_index().\n",
    "    rename(columns={'products_per_client': 'average_num_of_products_per_client'})\n",
    ")\n",
    "avg_num_of_clients_by_segment"
   ]
  },
  {
   "cell_type": "code",
   "execution_count": 318,
   "metadata": {},
   "outputs": [
    {
     "data": {
      "text/plain": [
       "<Axes: xlabel='segment'>"
      ]
     },
     "execution_count": 318,
     "metadata": {},
     "output_type": "execute_result"
    },
    {
     "data": {
      "image/png": "[encoded data removed]",
      "text/plain": [
       "<Figure size 640x480 with 1 Axes>"
      ]
     },
     "metadata": {},
     "output_type": "display_data"
    }
   ],
   "source": [
    "avg_num_of_clients_by_segment.pivot(index='segment', columns='period', values='average_num_of_products_per_client').plot(kind='bar', rot=0)"
   ]
  },
  {
   "cell_type": "code",
   "execution_count": 319,
   "metadata": {},
   "outputs": [
    {
     "name": "stderr",
     "output_type": "stream",
     "text": [
      "C:\\Users\\Anastasia\\AppData\\Local\\Programs\\Python\\Python311\\Lib\\site-packages\\seaborn\\axisgrid.py:118: UserWarning: The figure layout has changed to tight\n",
      "  self._figure.tight_layout(*args, **kwargs)\n"
     ]
    },
    {
     "data": {
      "text/plain": [
       "<seaborn.axisgrid.FacetGrid at 0x26b134d7890>"
      ]
     },
     "execution_count": 319,
     "metadata": {},
     "output_type": "execute_result"
    },
    {
     "data": {
      "image/png": "[encoded data removed]",
      "text/plain": [
       "<Figure size 600x400 with 3 Axes>"
      ]
     },
     "metadata": {},
     "output_type": "display_data"
    }
   ],
   "source": [
    "sns.FacetGrid(avg_num_of_clients_by_segment, col=\"segment\", height=4, aspect=.5).\\\n",
    "map(sns.barplot, \"period\", \"average_num_of_products_per_client\", order=[\"p_1\", \"p_2\"])\n"
   ]
  },
  {
   "cell_type": "code",
   "execution_count": 455,
   "metadata": {},
   "outputs": [
    {
     "data": {
      "text/html": [
       "<div>\n",
       "<style scoped>\n",
       "    .dataframe tbody tr th:only-of-type {\n",
       "        vertical-align: middle;\n",
       "    }\n",
       "\n",
       "    .dataframe tbody tr th {\n",
       "        vertical-align: top;\n",
       "    }\n",
       "\n",
       "    .dataframe thead th {\n",
       "        text-align: right;\n",
       "    }\n",
       "</style>\n",
       "<table border=\"1\" class=\"dataframe\">\n",
       "  <thead>\n",
       "    <tr style=\"text-align: right;\">\n",
       "      <th></th>\n",
       "      <th>period</th>\n",
       "      <th>average_num_of_products_per_client</th>\n",
       "    </tr>\n",
       "  </thead>\n",
       "  <tbody>\n",
       "    <tr>\n",
       "      <th>0</th>\n",
       "      <td>p_1</td>\n",
       "      <td>1.69</td>\n",
       "    </tr>\n",
       "    <tr>\n",
       "      <th>1</th>\n",
       "      <td>p_2</td>\n",
       "      <td>2.08</td>\n",
       "    </tr>\n",
       "  </tbody>\n",
       "</table>\n",
       "</div>"
      ],
      "text/plain": [
       "  period  average_num_of_products_per_client\n",
       "0    p_1                                1.69\n",
       "1    p_2                                2.08"
      ]
     },
     "execution_count": 455,
     "metadata": {},
     "output_type": "execute_result"
    }
   ],
   "source": [
    "avg_num_of_clients = (\n",
    "    df.groupby(['period', 'client_id']).\n",
    "    agg({'product': 'nunique'}).reset_index().\n",
    "    rename(columns={'product': 'products_per_client'}).\n",
    "    groupby(['period']).agg({'products_per_client': 'mean'}).\n",
    "    round(2).reset_index().\n",
    "    rename(columns={'products_per_client': 'average_num_of_products_per_client'})\n",
    ")\n",
    "avg_num_of_clients"
   ]
  },
  {
   "cell_type": "raw",
   "metadata": {},
   "source": [
    "In each segment number of products per client increased in 2nd preiod after marketing campaign\n",
    "How many clients have all 5 banking products by segment in different periods"
   ]
  },
  {
   "cell_type": "code",
   "execution_count": 457,
   "metadata": {},
   "outputs": [
    {
     "data": {
      "text/html": [
       "<div>\n",
       "<style scoped>\n",
       "    .dataframe tbody tr th:only-of-type {\n",
       "        vertical-align: middle;\n",
       "    }\n",
       "\n",
       "    .dataframe tbody tr th {\n",
       "        vertical-align: top;\n",
       "    }\n",
       "\n",
       "    .dataframe thead tr th {\n",
       "        text-align: left;\n",
       "    }\n",
       "\n",
       "    .dataframe thead tr:last-of-type th {\n",
       "        text-align: right;\n",
       "    }\n",
       "</style>\n",
       "<table border=\"1\" class=\"dataframe\">\n",
       "  <thead>\n",
       "    <tr>\n",
       "      <th></th>\n",
       "      <th colspan=\"2\" halign=\"left\">num_of_clients</th>\n",
       "    </tr>\n",
       "    <tr>\n",
       "      <th>period</th>\n",
       "      <th>p_1</th>\n",
       "      <th>p_2</th>\n",
       "    </tr>\n",
       "    <tr>\n",
       "      <th>segment</th>\n",
       "      <th></th>\n",
       "      <th></th>\n",
       "    </tr>\n",
       "  </thead>\n",
       "  <tbody>\n",
       "    <tr>\n",
       "      <th>mass</th>\n",
       "      <td>10</td>\n",
       "      <td>65</td>\n",
       "    </tr>\n",
       "    <tr>\n",
       "      <th>standart</th>\n",
       "      <td>1</td>\n",
       "      <td>33</td>\n",
       "    </tr>\n",
       "    <tr>\n",
       "      <th>upper</th>\n",
       "      <td>2</td>\n",
       "      <td>5</td>\n",
       "    </tr>\n",
       "  </tbody>\n",
       "</table>\n",
       "</div>"
      ],
      "text/plain": [
       "         num_of_clients    \n",
       "period              p_1 p_2\n",
       "segment                    \n",
       "mass                 10  65\n",
       "standart              1  33\n",
       "upper                 2   5"
      ]
     },
     "execution_count": 457,
     "metadata": {},
     "output_type": "execute_result"
    }
   ],
   "source": [
    "df1 = df.groupby(['segment', 'period', 'client_id']).agg({'product': 'nunique'}).reset_index().rename(columns={'product': 'products_per_client'})\n",
    "df_all_5_products = df1[df1['products_per_client'] == 5].groupby(['segment', 'period']).agg({'client_id': 'count'}).reset_index().\\\n",
    "pivot_table(index=['segment'], columns=['period'], values=['client_id']).rename(columns={'client_id': 'num_of_clients'})\n",
    "df_all_5_products"
   ]
  },
  {
   "cell_type": "code",
   "execution_count": 466,
   "metadata": {},
   "outputs": [
    {
     "data": {
      "text/plain": [
       "<matplotlib.legend.Legend at 0x26b1d754d10>"
      ]
     },
     "execution_count": 466,
     "metadata": {},
     "output_type": "execute_result"
    },
    {
     "data": {
      "image/png": "[encoded data removed]",
      "text/plain": [
       "<Figure size 640x480 with 1 Axes>"
      ]
     },
     "metadata": {},
     "output_type": "display_data"
    }
   ],
   "source": [
    "df_all_5_products.plot(kind='bar', title='Most loayl clients with 5 banking products').\\\n",
    "legend(['num_of_clients in p_1', 'num_of_clients in p_2'], title=None)\n"
   ]
  },
  {
   "cell_type": "raw",
   "metadata": {},
   "source": [
    "In each segment number of clients who uses all 5 banking products increased in 2nd period."
   ]
  },
  {
   "cell_type": "markdown",
   "metadata": {},
   "source": [
    "### 2. Calculate the average net operating income by product and seegment and the number of customers with the product for each segment by period."
   ]
  },
  {
   "cell_type": "code",
   "execution_count": 321,
   "metadata": {},
   "outputs": [
    {
     "data": {
      "text/html": [
       "<div>\n",
       "<style scoped>\n",
       "    .dataframe tbody tr th:only-of-type {\n",
       "        vertical-align: middle;\n",
       "    }\n",
       "\n",
       "    .dataframe tbody tr th {\n",
       "        vertical-align: top;\n",
       "    }\n",
       "\n",
       "    .dataframe thead tr th {\n",
       "        text-align: left;\n",
       "    }\n",
       "\n",
       "    .dataframe thead tr:last-of-type th {\n",
       "        text-align: right;\n",
       "    }\n",
       "</style>\n",
       "<table border=\"1\" class=\"dataframe\">\n",
       "  <thead>\n",
       "    <tr>\n",
       "      <th></th>\n",
       "      <th></th>\n",
       "      <th colspan=\"2\" halign=\"left\">avg_pl</th>\n",
       "      <th colspan=\"2\" halign=\"left\">numb_of_clients</th>\n",
       "    </tr>\n",
       "    <tr>\n",
       "      <th></th>\n",
       "      <th>period</th>\n",
       "      <th>p_1</th>\n",
       "      <th>p_2</th>\n",
       "      <th>p_1</th>\n",
       "      <th>p_2</th>\n",
       "    </tr>\n",
       "    <tr>\n",
       "      <th>segment</th>\n",
       "      <th>product</th>\n",
       "      <th></th>\n",
       "      <th></th>\n",
       "      <th></th>\n",
       "      <th></th>\n",
       "    </tr>\n",
       "  </thead>\n",
       "  <tbody>\n",
       "    <tr>\n",
       "      <th rowspan=\"5\" valign=\"top\">mass</th>\n",
       "      <th>acquiring</th>\n",
       "      <td>19.627608</td>\n",
       "      <td>17.348344</td>\n",
       "      <td>2625</td>\n",
       "      <td>4424</td>\n",
       "    </tr>\n",
       "    <tr>\n",
       "      <th>banking card</th>\n",
       "      <td>13.310203</td>\n",
       "      <td>11.726557</td>\n",
       "      <td>895</td>\n",
       "      <td>2636</td>\n",
       "    </tr>\n",
       "    <tr>\n",
       "      <th>deposit</th>\n",
       "      <td>28.747545</td>\n",
       "      <td>25.219855</td>\n",
       "      <td>3537</td>\n",
       "      <td>4345</td>\n",
       "    </tr>\n",
       "    <tr>\n",
       "      <th>loan</th>\n",
       "      <td>59.219407</td>\n",
       "      <td>67.109774</td>\n",
       "      <td>5247</td>\n",
       "      <td>7845</td>\n",
       "    </tr>\n",
       "    <tr>\n",
       "      <th>settlement and cash services</th>\n",
       "      <td>5.795114</td>\n",
       "      <td>5.566726</td>\n",
       "      <td>16728</td>\n",
       "      <td>16700</td>\n",
       "    </tr>\n",
       "    <tr>\n",
       "      <th rowspan=\"5\" valign=\"top\">standart</th>\n",
       "      <th>acquiring</th>\n",
       "      <td>39.329551</td>\n",
       "      <td>35.046014</td>\n",
       "      <td>962</td>\n",
       "      <td>1590</td>\n",
       "    </tr>\n",
       "    <tr>\n",
       "      <th>banking card</th>\n",
       "      <td>26.421616</td>\n",
       "      <td>22.436106</td>\n",
       "      <td>338</td>\n",
       "      <td>917</td>\n",
       "    </tr>\n",
       "    <tr>\n",
       "      <th>deposit</th>\n",
       "      <td>60.994262</td>\n",
       "      <td>49.332790</td>\n",
       "      <td>1292</td>\n",
       "      <td>1570</td>\n",
       "    </tr>\n",
       "    <tr>\n",
       "      <th>loan</th>\n",
       "      <td>120.101219</td>\n",
       "      <td>131.611788</td>\n",
       "      <td>1871</td>\n",
       "      <td>2871</td>\n",
       "    </tr>\n",
       "    <tr>\n",
       "      <th>settlement and cash services</th>\n",
       "      <td>11.418812</td>\n",
       "      <td>10.983568</td>\n",
       "      <td>5907</td>\n",
       "      <td>5870</td>\n",
       "    </tr>\n",
       "    <tr>\n",
       "      <th rowspan=\"5\" valign=\"top\">upper</th>\n",
       "      <th>acquiring</th>\n",
       "      <td>80.517184</td>\n",
       "      <td>72.968866</td>\n",
       "      <td>183</td>\n",
       "      <td>284</td>\n",
       "    </tr>\n",
       "    <tr>\n",
       "      <th>banking card</th>\n",
       "      <td>60.571545</td>\n",
       "      <td>51.770009</td>\n",
       "      <td>49</td>\n",
       "      <td>167</td>\n",
       "    </tr>\n",
       "    <tr>\n",
       "      <th>deposit</th>\n",
       "      <td>112.474520</td>\n",
       "      <td>99.260623</td>\n",
       "      <td>254</td>\n",
       "      <td>283</td>\n",
       "    </tr>\n",
       "    <tr>\n",
       "      <th>loan</th>\n",
       "      <td>236.938710</td>\n",
       "      <td>248.191513</td>\n",
       "      <td>360</td>\n",
       "      <td>548</td>\n",
       "    </tr>\n",
       "    <tr>\n",
       "      <th>settlement and cash services</th>\n",
       "      <td>22.847632</td>\n",
       "      <td>22.064079</td>\n",
       "      <td>1149</td>\n",
       "      <td>1162</td>\n",
       "    </tr>\n",
       "  </tbody>\n",
       "</table>\n",
       "</div>"
      ],
      "text/plain": [
       "                                           avg_pl             numb_of_clients  \\\n",
       "period                                        p_1         p_2             p_1   \n",
       "segment  product                                                                \n",
       "mass     acquiring                      19.627608   17.348344            2625   \n",
       "         banking card                   13.310203   11.726557             895   \n",
       "         deposit                        28.747545   25.219855            3537   \n",
       "         loan                           59.219407   67.109774            5247   \n",
       "         settlement and cash services    5.795114    5.566726           16728   \n",
       "standart acquiring                      39.329551   35.046014             962   \n",
       "         banking card                   26.421616   22.436106             338   \n",
       "         deposit                        60.994262   49.332790            1292   \n",
       "         loan                          120.101219  131.611788            1871   \n",
       "         settlement and cash services   11.418812   10.983568            5907   \n",
       "upper    acquiring                      80.517184   72.968866             183   \n",
       "         banking card                   60.571545   51.770009              49   \n",
       "         deposit                       112.474520   99.260623             254   \n",
       "         loan                          236.938710  248.191513             360   \n",
       "         settlement and cash services   22.847632   22.064079            1149   \n",
       "\n",
       "                                              \n",
       "period                                   p_2  \n",
       "segment  product                              \n",
       "mass     acquiring                      4424  \n",
       "         banking card                   2636  \n",
       "         deposit                        4345  \n",
       "         loan                           7845  \n",
       "         settlement and cash services  16700  \n",
       "standart acquiring                      1590  \n",
       "         banking card                    917  \n",
       "         deposit                        1570  \n",
       "         loan                           2871  \n",
       "         settlement and cash services   5870  \n",
       "upper    acquiring                       284  \n",
       "         banking card                    167  \n",
       "         deposit                         283  \n",
       "         loan                            548  \n",
       "         settlement and cash services   1162  "
      ]
     },
     "execution_count": 321,
     "metadata": {},
     "output_type": "execute_result"
    }
   ],
   "source": [
    "df.groupby(['segment', 'period', 'product']).\\\n",
    "   agg({'pl': 'mean', 'client_id': 'nunique'}).reset_index().\\\n",
    "   rename(columns={'pl': 'avg_pl', 'client_id': 'numb_of_clients'}).\\\n",
    "   pivot_table(index=['segment', 'product'], columns=['period'], values=['avg_pl', 'numb_of_clients'])"
   ]
  },
  {
   "cell_type": "raw",
   "metadata": {},
   "source": [
    "Number of clients in second period increased in all categories except \"settlement and cash services\" for \"mass\" and \"standart\" segments.\n",
    "Average net operating income declined in the following categories: \n",
    "- \"banking card\" in all segments maybe due to a marketing promotion (we don't know the terms of the promotion, but cheaper annual fee for banking card\n",
    " can explain it)\n",
    "- \"deposit\" in all segmennts (maybe due to a higher interest rate)\n",
    "- \"settlement and cash services\" for all segments (maybe due to a reduction in the cost of money transfers)\n",
    "- \"acquiring\" for all segments (maybe due to a reduction in the cost of money transfers)"
   ]
  },
  {
   "cell_type": "code",
   "execution_count": 322,
   "metadata": {},
   "outputs": [
    {
     "data": {
      "text/html": [
       "<div>\n",
       "<style scoped>\n",
       "    .dataframe tbody tr th:only-of-type {\n",
       "        vertical-align: middle;\n",
       "    }\n",
       "\n",
       "    .dataframe tbody tr th {\n",
       "        vertical-align: top;\n",
       "    }\n",
       "\n",
       "    .dataframe thead tr th {\n",
       "        text-align: left;\n",
       "    }\n",
       "</style>\n",
       "<table border=\"1\" class=\"dataframe\">\n",
       "  <thead>\n",
       "    <tr>\n",
       "      <th></th>\n",
       "      <th>segment</th>\n",
       "      <th>product</th>\n",
       "      <th colspan=\"2\" halign=\"left\">numb_of_clients</th>\n",
       "      <th colspan=\"2\" halign=\"left\">total_pl</th>\n",
       "    </tr>\n",
       "    <tr>\n",
       "      <th>period</th>\n",
       "      <th></th>\n",
       "      <th></th>\n",
       "      <th>p_1</th>\n",
       "      <th>p_2</th>\n",
       "      <th>p_1</th>\n",
       "      <th>p_2</th>\n",
       "    </tr>\n",
       "  </thead>\n",
       "  <tbody>\n",
       "    <tr>\n",
       "      <th>0</th>\n",
       "      <td>mass</td>\n",
       "      <td>acquiring</td>\n",
       "      <td>2625</td>\n",
       "      <td>4424</td>\n",
       "      <td>51522.470650</td>\n",
       "      <td>76749.072807</td>\n",
       "    </tr>\n",
       "    <tr>\n",
       "      <th>1</th>\n",
       "      <td>mass</td>\n",
       "      <td>banking card</td>\n",
       "      <td>895</td>\n",
       "      <td>2636</td>\n",
       "      <td>11912.631687</td>\n",
       "      <td>30911.203026</td>\n",
       "    </tr>\n",
       "    <tr>\n",
       "      <th>2</th>\n",
       "      <td>mass</td>\n",
       "      <td>deposit</td>\n",
       "      <td>3537</td>\n",
       "      <td>4345</td>\n",
       "      <td>101680.067703</td>\n",
       "      <td>109580.268403</td>\n",
       "    </tr>\n",
       "    <tr>\n",
       "      <th>3</th>\n",
       "      <td>mass</td>\n",
       "      <td>loan</td>\n",
       "      <td>5247</td>\n",
       "      <td>7845</td>\n",
       "      <td>310724.231052</td>\n",
       "      <td>526476.177132</td>\n",
       "    </tr>\n",
       "    <tr>\n",
       "      <th>4</th>\n",
       "      <td>mass</td>\n",
       "      <td>settlement and cash services</td>\n",
       "      <td>16728</td>\n",
       "      <td>16700</td>\n",
       "      <td>96940.659699</td>\n",
       "      <td>92964.322441</td>\n",
       "    </tr>\n",
       "    <tr>\n",
       "      <th>5</th>\n",
       "      <td>standart</td>\n",
       "      <td>acquiring</td>\n",
       "      <td>962</td>\n",
       "      <td>1590</td>\n",
       "      <td>37835.028014</td>\n",
       "      <td>55723.162104</td>\n",
       "    </tr>\n",
       "    <tr>\n",
       "      <th>6</th>\n",
       "      <td>standart</td>\n",
       "      <td>banking card</td>\n",
       "      <td>338</td>\n",
       "      <td>917</td>\n",
       "      <td>8930.506181</td>\n",
       "      <td>20573.908977</td>\n",
       "    </tr>\n",
       "    <tr>\n",
       "      <th>7</th>\n",
       "      <td>standart</td>\n",
       "      <td>deposit</td>\n",
       "      <td>1292</td>\n",
       "      <td>1570</td>\n",
       "      <td>78804.586529</td>\n",
       "      <td>77452.480043</td>\n",
       "    </tr>\n",
       "    <tr>\n",
       "      <th>8</th>\n",
       "      <td>standart</td>\n",
       "      <td>loan</td>\n",
       "      <td>1871</td>\n",
       "      <td>2871</td>\n",
       "      <td>224709.381560</td>\n",
       "      <td>377857.442886</td>\n",
       "    </tr>\n",
       "    <tr>\n",
       "      <th>9</th>\n",
       "      <td>standart</td>\n",
       "      <td>settlement and cash services</td>\n",
       "      <td>5907</td>\n",
       "      <td>5870</td>\n",
       "      <td>67450.919956</td>\n",
       "      <td>64473.542687</td>\n",
       "    </tr>\n",
       "    <tr>\n",
       "      <th>10</th>\n",
       "      <td>upper</td>\n",
       "      <td>acquiring</td>\n",
       "      <td>183</td>\n",
       "      <td>284</td>\n",
       "      <td>14734.644751</td>\n",
       "      <td>20723.157814</td>\n",
       "    </tr>\n",
       "    <tr>\n",
       "      <th>11</th>\n",
       "      <td>upper</td>\n",
       "      <td>banking card</td>\n",
       "      <td>49</td>\n",
       "      <td>167</td>\n",
       "      <td>2968.005722</td>\n",
       "      <td>8645.591583</td>\n",
       "    </tr>\n",
       "    <tr>\n",
       "      <th>12</th>\n",
       "      <td>upper</td>\n",
       "      <td>deposit</td>\n",
       "      <td>254</td>\n",
       "      <td>283</td>\n",
       "      <td>28568.528169</td>\n",
       "      <td>28090.756271</td>\n",
       "    </tr>\n",
       "    <tr>\n",
       "      <th>13</th>\n",
       "      <td>upper</td>\n",
       "      <td>loan</td>\n",
       "      <td>360</td>\n",
       "      <td>548</td>\n",
       "      <td>85297.935527</td>\n",
       "      <td>136008.949279</td>\n",
       "    </tr>\n",
       "    <tr>\n",
       "      <th>14</th>\n",
       "      <td>upper</td>\n",
       "      <td>settlement and cash services</td>\n",
       "      <td>1149</td>\n",
       "      <td>1162</td>\n",
       "      <td>26251.929445</td>\n",
       "      <td>25638.459448</td>\n",
       "    </tr>\n",
       "  </tbody>\n",
       "</table>\n",
       "</div>"
      ],
      "text/plain": [
       "         segment                       product numb_of_clients         \\\n",
       "period                                                     p_1    p_2   \n",
       "0           mass                     acquiring            2625   4424   \n",
       "1           mass                  banking card             895   2636   \n",
       "2           mass                       deposit            3537   4345   \n",
       "3           mass                          loan            5247   7845   \n",
       "4           mass  settlement and cash services           16728  16700   \n",
       "5       standart                     acquiring             962   1590   \n",
       "6       standart                  banking card             338    917   \n",
       "7       standart                       deposit            1292   1570   \n",
       "8       standart                          loan            1871   2871   \n",
       "9       standart  settlement and cash services            5907   5870   \n",
       "10         upper                     acquiring             183    284   \n",
       "11         upper                  banking card              49    167   \n",
       "12         upper                       deposit             254    283   \n",
       "13         upper                          loan             360    548   \n",
       "14         upper  settlement and cash services            1149   1162   \n",
       "\n",
       "             total_pl                 \n",
       "period            p_1            p_2  \n",
       "0        51522.470650   76749.072807  \n",
       "1        11912.631687   30911.203026  \n",
       "2       101680.067703  109580.268403  \n",
       "3       310724.231052  526476.177132  \n",
       "4        96940.659699   92964.322441  \n",
       "5        37835.028014   55723.162104  \n",
       "6         8930.506181   20573.908977  \n",
       "7        78804.586529   77452.480043  \n",
       "8       224709.381560  377857.442886  \n",
       "9        67450.919956   64473.542687  \n",
       "10       14734.644751   20723.157814  \n",
       "11        2968.005722    8645.591583  \n",
       "12       28568.528169   28090.756271  \n",
       "13       85297.935527  136008.949279  \n",
       "14       26251.929445   25638.459448  "
      ]
     },
     "execution_count": 322,
     "metadata": {},
     "output_type": "execute_result"
    }
   ],
   "source": [
    "# Calculate the total net operating income by product and seegment and the number of customers with the product for each segment by period.\n",
    "df.groupby(['segment', 'period', 'product']).\\\n",
    "   agg({'pl': 'sum', 'client_id': 'nunique'}).reset_index().\\\n",
    "   rename(columns={'pl': 'total_pl', 'client_id': 'numb_of_clients'}).\\\n",
    "   pivot_table(index=['segment', 'product'], columns=['period'], values=['total_pl', 'numb_of_clients']).reset_index()"
   ]
  },
  {
   "cell_type": "code",
   "execution_count": 323,
   "metadata": {},
   "outputs": [
    {
     "data": {
      "text/html": [
       "<div>\n",
       "<style scoped>\n",
       "    .dataframe tbody tr th:only-of-type {\n",
       "        vertical-align: middle;\n",
       "    }\n",
       "\n",
       "    .dataframe tbody tr th {\n",
       "        vertical-align: top;\n",
       "    }\n",
       "\n",
       "    .dataframe thead tr th {\n",
       "        text-align: left;\n",
       "    }\n",
       "\n",
       "    .dataframe thead tr:last-of-type th {\n",
       "        text-align: right;\n",
       "    }\n",
       "</style>\n",
       "<table border=\"1\" class=\"dataframe\">\n",
       "  <thead>\n",
       "    <tr>\n",
       "      <th></th>\n",
       "      <th></th>\n",
       "      <th colspan=\"2\" halign=\"left\">total_pl</th>\n",
       "      <th>total_pl incresaed? Y/N</th>\n",
       "    </tr>\n",
       "    <tr>\n",
       "      <th></th>\n",
       "      <th>period</th>\n",
       "      <th>p_1</th>\n",
       "      <th>p_2</th>\n",
       "      <th></th>\n",
       "    </tr>\n",
       "    <tr>\n",
       "      <th>segment</th>\n",
       "      <th>product</th>\n",
       "      <th></th>\n",
       "      <th></th>\n",
       "      <th></th>\n",
       "    </tr>\n",
       "  </thead>\n",
       "  <tbody>\n",
       "    <tr>\n",
       "      <th rowspan=\"5\" valign=\"top\">mass</th>\n",
       "      <th>acquiring</th>\n",
       "      <td>51522.470650</td>\n",
       "      <td>76749.072807</td>\n",
       "      <td>Y</td>\n",
       "    </tr>\n",
       "    <tr>\n",
       "      <th>banking card</th>\n",
       "      <td>11912.631687</td>\n",
       "      <td>30911.203026</td>\n",
       "      <td>Y</td>\n",
       "    </tr>\n",
       "    <tr>\n",
       "      <th>deposit</th>\n",
       "      <td>101680.067703</td>\n",
       "      <td>109580.268403</td>\n",
       "      <td>Y</td>\n",
       "    </tr>\n",
       "    <tr>\n",
       "      <th>loan</th>\n",
       "      <td>310724.231052</td>\n",
       "      <td>526476.177132</td>\n",
       "      <td>Y</td>\n",
       "    </tr>\n",
       "    <tr>\n",
       "      <th>settlement and cash services</th>\n",
       "      <td>96940.659699</td>\n",
       "      <td>92964.322441</td>\n",
       "      <td>N</td>\n",
       "    </tr>\n",
       "    <tr>\n",
       "      <th rowspan=\"5\" valign=\"top\">standart</th>\n",
       "      <th>acquiring</th>\n",
       "      <td>37835.028014</td>\n",
       "      <td>55723.162104</td>\n",
       "      <td>Y</td>\n",
       "    </tr>\n",
       "    <tr>\n",
       "      <th>banking card</th>\n",
       "      <td>8930.506181</td>\n",
       "      <td>20573.908977</td>\n",
       "      <td>Y</td>\n",
       "    </tr>\n",
       "    <tr>\n",
       "      <th>deposit</th>\n",
       "      <td>78804.586529</td>\n",
       "      <td>77452.480043</td>\n",
       "      <td>N</td>\n",
       "    </tr>\n",
       "    <tr>\n",
       "      <th>loan</th>\n",
       "      <td>224709.381560</td>\n",
       "      <td>377857.442886</td>\n",
       "      <td>Y</td>\n",
       "    </tr>\n",
       "    <tr>\n",
       "      <th>settlement and cash services</th>\n",
       "      <td>67450.919956</td>\n",
       "      <td>64473.542687</td>\n",
       "      <td>N</td>\n",
       "    </tr>\n",
       "    <tr>\n",
       "      <th rowspan=\"5\" valign=\"top\">upper</th>\n",
       "      <th>acquiring</th>\n",
       "      <td>14734.644751</td>\n",
       "      <td>20723.157814</td>\n",
       "      <td>Y</td>\n",
       "    </tr>\n",
       "    <tr>\n",
       "      <th>banking card</th>\n",
       "      <td>2968.005722</td>\n",
       "      <td>8645.591583</td>\n",
       "      <td>Y</td>\n",
       "    </tr>\n",
       "    <tr>\n",
       "      <th>deposit</th>\n",
       "      <td>28568.528169</td>\n",
       "      <td>28090.756271</td>\n",
       "      <td>N</td>\n",
       "    </tr>\n",
       "    <tr>\n",
       "      <th>loan</th>\n",
       "      <td>85297.935527</td>\n",
       "      <td>136008.949279</td>\n",
       "      <td>Y</td>\n",
       "    </tr>\n",
       "    <tr>\n",
       "      <th>settlement and cash services</th>\n",
       "      <td>26251.929445</td>\n",
       "      <td>25638.459448</td>\n",
       "      <td>N</td>\n",
       "    </tr>\n",
       "  </tbody>\n",
       "</table>\n",
       "</div>"
      ],
      "text/plain": [
       "                                            total_pl                 \\\n",
       "period                                           p_1            p_2   \n",
       "segment  product                                                      \n",
       "mass     acquiring                      51522.470650   76749.072807   \n",
       "         banking card                   11912.631687   30911.203026   \n",
       "         deposit                       101680.067703  109580.268403   \n",
       "         loan                          310724.231052  526476.177132   \n",
       "         settlement and cash services   96940.659699   92964.322441   \n",
       "standart acquiring                      37835.028014   55723.162104   \n",
       "         banking card                    8930.506181   20573.908977   \n",
       "         deposit                        78804.586529   77452.480043   \n",
       "         loan                          224709.381560  377857.442886   \n",
       "         settlement and cash services   67450.919956   64473.542687   \n",
       "upper    acquiring                      14734.644751   20723.157814   \n",
       "         banking card                    2968.005722    8645.591583   \n",
       "         deposit                        28568.528169   28090.756271   \n",
       "         loan                           85297.935527  136008.949279   \n",
       "         settlement and cash services   26251.929445   25638.459448   \n",
       "\n",
       "                                      total_pl incresaed? Y/N  \n",
       "period                                                         \n",
       "segment  product                                               \n",
       "mass     acquiring                                          Y  \n",
       "         banking card                                       Y  \n",
       "         deposit                                            Y  \n",
       "         loan                                               Y  \n",
       "         settlement and cash services                       N  \n",
       "standart acquiring                                          Y  \n",
       "         banking card                                       Y  \n",
       "         deposit                                            N  \n",
       "         loan                                               Y  \n",
       "         settlement and cash services                       N  \n",
       "upper    acquiring                                          Y  \n",
       "         banking card                                       Y  \n",
       "         deposit                                            N  \n",
       "         loan                                               Y  \n",
       "         settlement and cash services                       N  "
      ]
     },
     "execution_count": 323,
     "metadata": {},
     "output_type": "execute_result"
    }
   ],
   "source": [
    "total_pl_dynamic = df.groupby(['segment', 'period', 'product']).\\\n",
    "   agg({'pl': 'sum'}).reset_index().\\\n",
    "   rename(columns={'pl': 'total_pl'}).\\\n",
    "   pivot_table(index=['segment', 'product'], columns=['period'], values=['total_pl'])\n",
    "\n",
    "total_pl_dynamic['total_pl incresaed? Y/N'] = np.where(total_pl_dynamic['total_pl']['p_2'] - total_pl_dynamic['total_pl']['p_1'] > 0, 'Y', 'N')\n",
    "total_pl_dynamic"
   ]
  },
  {
   "cell_type": "raw",
   "metadata": {},
   "source": [
    "total_pl for \"settlement and cash services\" and \"deposit\" decresed in second period in Upper and Standart segments and total_pl for \"settlement and cash services\" decreased in second period in mass segment"
   ]
  },
  {
   "cell_type": "markdown",
   "metadata": {},
   "source": [
    "### 3. Estimate the outflow of customers from products in period p_2."
   ]
  },
  {
   "cell_type": "code",
   "execution_count": 324,
   "metadata": {},
   "outputs": [],
   "source": [
    "# data for p_1 period\n",
    "df1 = df[df['period'] == 'p_1']"
   ]
  },
  {
   "cell_type": "code",
   "execution_count": 325,
   "metadata": {},
   "outputs": [
    {
     "data": {
      "text/html": [
       "<div>\n",
       "<style scoped>\n",
       "    .dataframe tbody tr th:only-of-type {\n",
       "        vertical-align: middle;\n",
       "    }\n",
       "\n",
       "    .dataframe tbody tr th {\n",
       "        vertical-align: top;\n",
       "    }\n",
       "\n",
       "    .dataframe thead th {\n",
       "        text-align: right;\n",
       "    }\n",
       "</style>\n",
       "<table border=\"1\" class=\"dataframe\">\n",
       "  <thead>\n",
       "    <tr style=\"text-align: right;\">\n",
       "      <th></th>\n",
       "      <th>client_id</th>\n",
       "      <th>segment</th>\n",
       "      <th>period</th>\n",
       "      <th>product</th>\n",
       "      <th>pl</th>\n",
       "    </tr>\n",
       "  </thead>\n",
       "  <tbody>\n",
       "    <tr>\n",
       "      <th>41397</th>\n",
       "      <td>XHgfHt3boG</td>\n",
       "      <td>mass</td>\n",
       "      <td>p_2</td>\n",
       "      <td>loan</td>\n",
       "      <td>35.244275</td>\n",
       "    </tr>\n",
       "    <tr>\n",
       "      <th>41398</th>\n",
       "      <td>sujQEPdgvp</td>\n",
       "      <td>mass</td>\n",
       "      <td>p_2</td>\n",
       "      <td>loan</td>\n",
       "      <td>121.858601</td>\n",
       "    </tr>\n",
       "    <tr>\n",
       "      <th>41399</th>\n",
       "      <td>jj7zjaRO9L</td>\n",
       "      <td>mass</td>\n",
       "      <td>p_2</td>\n",
       "      <td>loan</td>\n",
       "      <td>19.444304</td>\n",
       "    </tr>\n",
       "    <tr>\n",
       "      <th>41400</th>\n",
       "      <td>FXIJUkgjLy</td>\n",
       "      <td>mass</td>\n",
       "      <td>p_2</td>\n",
       "      <td>loan</td>\n",
       "      <td>2.430823</td>\n",
       "    </tr>\n",
       "    <tr>\n",
       "      <th>41401</th>\n",
       "      <td>AmbDMtMnUr</td>\n",
       "      <td>mass</td>\n",
       "      <td>p_2</td>\n",
       "      <td>loan</td>\n",
       "      <td>31.668156</td>\n",
       "    </tr>\n",
       "    <tr>\n",
       "      <th>...</th>\n",
       "      <td>...</td>\n",
       "      <td>...</td>\n",
       "      <td>...</td>\n",
       "      <td>...</td>\n",
       "      <td>...</td>\n",
       "    </tr>\n",
       "    <tr>\n",
       "      <th>92604</th>\n",
       "      <td>G8E6dyKT3k</td>\n",
       "      <td>mass</td>\n",
       "      <td>p_2</td>\n",
       "      <td>banking card</td>\n",
       "      <td>17.362040</td>\n",
       "    </tr>\n",
       "    <tr>\n",
       "      <th>92605</th>\n",
       "      <td>10OPeJCF1l</td>\n",
       "      <td>mass</td>\n",
       "      <td>p_2</td>\n",
       "      <td>banking card</td>\n",
       "      <td>1.861434</td>\n",
       "    </tr>\n",
       "    <tr>\n",
       "      <th>92606</th>\n",
       "      <td>BMN762bZh5</td>\n",
       "      <td>upper</td>\n",
       "      <td>p_2</td>\n",
       "      <td>banking card</td>\n",
       "      <td>78.430698</td>\n",
       "    </tr>\n",
       "    <tr>\n",
       "      <th>92607</th>\n",
       "      <td>FcB9pJHGVX</td>\n",
       "      <td>standart</td>\n",
       "      <td>p_2</td>\n",
       "      <td>banking card</td>\n",
       "      <td>16.107313</td>\n",
       "    </tr>\n",
       "    <tr>\n",
       "      <th>92608</th>\n",
       "      <td>gMu2eImQHH</td>\n",
       "      <td>standart</td>\n",
       "      <td>p_2</td>\n",
       "      <td>banking card</td>\n",
       "      <td>16.406641</td>\n",
       "    </tr>\n",
       "  </tbody>\n",
       "</table>\n",
       "<p>51212 rows × 5 columns</p>\n",
       "</div>"
      ],
      "text/plain": [
       "        client_id   segment period       product          pl\n",
       "41397  XHgfHt3boG      mass    p_2          loan   35.244275\n",
       "41398  sujQEPdgvp      mass    p_2          loan  121.858601\n",
       "41399  jj7zjaRO9L      mass    p_2          loan   19.444304\n",
       "41400  FXIJUkgjLy      mass    p_2          loan    2.430823\n",
       "41401  AmbDMtMnUr      mass    p_2          loan   31.668156\n",
       "...           ...       ...    ...           ...         ...\n",
       "92604  G8E6dyKT3k      mass    p_2  banking card   17.362040\n",
       "92605  10OPeJCF1l      mass    p_2  banking card    1.861434\n",
       "92606  BMN762bZh5     upper    p_2  banking card   78.430698\n",
       "92607  FcB9pJHGVX  standart    p_2  banking card   16.107313\n",
       "92608  gMu2eImQHH  standart    p_2  banking card   16.406641\n",
       "\n",
       "[51212 rows x 5 columns]"
      ]
     },
     "execution_count": 325,
     "metadata": {},
     "output_type": "execute_result"
    }
   ],
   "source": [
    "# data for p_2 period\n",
    "df2 = df[df['period'] == 'p_2']\n",
    "df2"
   ]
  },
  {
   "cell_type": "code",
   "execution_count": 326,
   "metadata": {},
   "outputs": [
    {
     "name": "stderr",
     "output_type": "stream",
     "text": [
      "C:\\Users\\Anastasia\\AppData\\Local\\Temp\\ipykernel_13056\\910872088.py:3: SettingWithCopyWarning: \n",
      "A value is trying to be set on a copy of a slice from a DataFrame.\n",
      "Try using .loc[row_indexer,col_indexer] = value instead\n",
      "\n",
      "See the caveats in the documentation: https://pandas.pydata.org/pandas-docs/stable/user_guide/indexing.html#returning-a-view-versus-a-copy\n",
      "  df2['new_client 1/0'] = np.where(df2['client_id'].isin(old_clients), 0, 1)\n"
     ]
    }
   ],
   "source": [
    "# count new clients in p_2 period, they bought products in p_2, but they had no products in p_1\n",
    "old_clients = list(df1['client_id'])\n",
    "df2['new_client 1/0'] = np.where(df2['client_id'].isin(old_clients), 0, 1)"
   ]
  },
  {
   "cell_type": "code",
   "execution_count": 327,
   "metadata": {},
   "outputs": [
    {
     "data": {
      "text/plain": [
       "'Number of new clients in p_2: 1092'"
      ]
     },
     "execution_count": 327,
     "metadata": {},
     "output_type": "execute_result"
    }
   ],
   "source": [
    "f'Number of new clients in p_2: {df2[\"new_client 1/0\"].sum()}'"
   ]
  },
  {
   "cell_type": "code",
   "execution_count": 328,
   "metadata": {},
   "outputs": [
    {
     "data": {
      "text/plain": [
       "608"
      ]
     },
     "execution_count": 328,
     "metadata": {},
     "output_type": "execute_result"
    }
   ],
   "source": [
    "# count clients in p_2 period, they bought products in p_1, but they had no products in p_2\n",
    "clients2 = list(df2['client_id'])\n",
    "df1[~df1['client_id'].isin(clients2)].shape[0]"
   ]
  },
  {
   "cell_type": "code",
   "execution_count": 329,
   "metadata": {},
   "outputs": [
    {
     "data": {
      "text/plain": [
       "'Churn rate for clients in p_2: 1.47%'"
      ]
     },
     "execution_count": 329,
     "metadata": {},
     "output_type": "execute_result"
    }
   ],
   "source": [
    "f'Churn rate for clients in p_2: {round(df1[~df1[\"client_id\"].isin(clients2)].shape[0]/len(df1)*100, 2)}%'"
   ]
  },
  {
   "cell_type": "code",
   "execution_count": 330,
   "metadata": {},
   "outputs": [],
   "source": [
    "# churn rate for clients broken down by product\n",
    "# We consider that churn has occurred if a customer stops using one product, even if the overall number of products for that customer has increased"
   ]
  },
  {
   "cell_type": "code",
   "execution_count": 331,
   "metadata": {},
   "outputs": [
    {
     "data": {
      "text/html": [
       "<div>\n",
       "<style scoped>\n",
       "    .dataframe tbody tr th:only-of-type {\n",
       "        vertical-align: middle;\n",
       "    }\n",
       "\n",
       "    .dataframe tbody tr th {\n",
       "        vertical-align: top;\n",
       "    }\n",
       "\n",
       "    .dataframe thead th {\n",
       "        text-align: right;\n",
       "    }\n",
       "</style>\n",
       "<table border=\"1\" class=\"dataframe\">\n",
       "  <thead>\n",
       "    <tr style=\"text-align: right;\">\n",
       "      <th></th>\n",
       "      <th>client_id</th>\n",
       "      <th>segment_x</th>\n",
       "      <th>period_x</th>\n",
       "      <th>product</th>\n",
       "      <th>pl_x</th>\n",
       "      <th>segment_y</th>\n",
       "      <th>period_y</th>\n",
       "      <th>pl_y</th>\n",
       "      <th>new_client 1/0</th>\n",
       "    </tr>\n",
       "  </thead>\n",
       "  <tbody>\n",
       "    <tr>\n",
       "      <th>0</th>\n",
       "      <td>ZDosW1zUAi</td>\n",
       "      <td>mass</td>\n",
       "      <td>p_1</td>\n",
       "      <td>loan</td>\n",
       "      <td>9.018067</td>\n",
       "      <td>NaN</td>\n",
       "      <td>NaN</td>\n",
       "      <td>NaN</td>\n",
       "      <td>NaN</td>\n",
       "    </tr>\n",
       "    <tr>\n",
       "      <th>1</th>\n",
       "      <td>wVRHQ9hzrw</td>\n",
       "      <td>mass</td>\n",
       "      <td>p_1</td>\n",
       "      <td>loan</td>\n",
       "      <td>18.889585</td>\n",
       "      <td>NaN</td>\n",
       "      <td>NaN</td>\n",
       "      <td>NaN</td>\n",
       "      <td>NaN</td>\n",
       "    </tr>\n",
       "    <tr>\n",
       "      <th>2</th>\n",
       "      <td>6DZQIaOyL3</td>\n",
       "      <td>mass</td>\n",
       "      <td>p_1</td>\n",
       "      <td>loan</td>\n",
       "      <td>0.369257</td>\n",
       "      <td>NaN</td>\n",
       "      <td>NaN</td>\n",
       "      <td>NaN</td>\n",
       "      <td>NaN</td>\n",
       "    </tr>\n",
       "    <tr>\n",
       "      <th>3</th>\n",
       "      <td>jDwO0sMhL2</td>\n",
       "      <td>mass</td>\n",
       "      <td>p_1</td>\n",
       "      <td>loan</td>\n",
       "      <td>124.315319</td>\n",
       "      <td>NaN</td>\n",
       "      <td>NaN</td>\n",
       "      <td>NaN</td>\n",
       "      <td>NaN</td>\n",
       "    </tr>\n",
       "    <tr>\n",
       "      <th>4</th>\n",
       "      <td>FXIJUkgjLy</td>\n",
       "      <td>mass</td>\n",
       "      <td>p_1</td>\n",
       "      <td>loan</td>\n",
       "      <td>41.287831</td>\n",
       "      <td>mass</td>\n",
       "      <td>p_2</td>\n",
       "      <td>2.430823</td>\n",
       "      <td>0.0</td>\n",
       "    </tr>\n",
       "  </tbody>\n",
       "</table>\n",
       "</div>"
      ],
      "text/plain": [
       "    client_id segment_x period_x product        pl_x segment_y period_y  \\\n",
       "0  ZDosW1zUAi      mass      p_1    loan    9.018067       NaN      NaN   \n",
       "1  wVRHQ9hzrw      mass      p_1    loan   18.889585       NaN      NaN   \n",
       "2  6DZQIaOyL3      mass      p_1    loan    0.369257       NaN      NaN   \n",
       "3  jDwO0sMhL2      mass      p_1    loan  124.315319       NaN      NaN   \n",
       "4  FXIJUkgjLy      mass      p_1    loan   41.287831      mass      p_2   \n",
       "\n",
       "       pl_y  new_client 1/0  \n",
       "0       NaN             NaN  \n",
       "1       NaN             NaN  \n",
       "2       NaN             NaN  \n",
       "3       NaN             NaN  \n",
       "4  2.430823             0.0  "
      ]
     },
     "execution_count": 331,
     "metadata": {},
     "output_type": "execute_result"
    }
   ],
   "source": [
    "df3 = df1.merge(df2, how='left', left_on=['client_id', 'product'], right_on=['client_id', 'product'])\n",
    "df3.head(5)"
   ]
  },
  {
   "cell_type": "code",
   "execution_count": 332,
   "metadata": {},
   "outputs": [
    {
     "name": "stderr",
     "output_type": "stream",
     "text": [
      "C:\\Users\\Anastasia\\AppData\\Local\\Temp\\ipykernel_13056\\1178252535.py:2: UserWarning: Boolean Series key will be reindexed to match DataFrame index.\n",
      "  df3[df3['segment_x'] != df3['segment_y']][~df3['segment_y'].isna()].shape[0]\n"
     ]
    },
    {
     "data": {
      "text/plain": [
       "0"
      ]
     },
     "execution_count": 332,
     "metadata": {},
     "output_type": "execute_result"
    }
   ],
   "source": [
    "# check if there are clients who were transferred to another segment in the p_2 period\n",
    "df3[df3['segment_x'] != df3['segment_y']][~df3['segment_y'].isna()].shape[0]"
   ]
  },
  {
   "cell_type": "code",
   "execution_count": 333,
   "metadata": {},
   "outputs": [
    {
     "data": {
      "text/plain": [
       "\"Client's churn rate in p_2 is 31.35%\""
      ]
     },
     "execution_count": 333,
     "metadata": {},
     "output_type": "execute_result"
    }
   ],
   "source": [
    "f\"Client's churn rate in p_2 is {round(len(df3[df3['segment_y'].isna()])/len(df3)*100, 2)}%\""
   ]
  },
  {
   "cell_type": "code",
   "execution_count": 336,
   "metadata": {},
   "outputs": [
    {
     "name": "stdout",
     "output_type": "stream",
     "text": [
      "Client's churn rate in p_2 is 54.61% for loan product with 7478 clients in p_1 period\n",
      "Client's churn rate in p_2 is 5.07% for settlement and cash services product with 23784 clients in p_1 period\n",
      "Client's churn rate in p_2 is 75.23% for deposit product with 5083 clients in p_1 period\n",
      "Client's churn rate in p_2 is 73.87% for acquiring product with 3770 clients in p_1 period\n",
      "Client's churn rate in p_2 is 84.17% for banking card product with 1282 clients in p_1 period\n"
     ]
    },
    {
     "name": "stderr",
     "output_type": "stream",
     "text": [
      "C:\\Users\\Anastasia\\AppData\\Local\\Temp\\ipykernel_13056\\3602176933.py:4: UserWarning: Boolean Series key will be reindexed to match DataFrame index.\n",
      "  print(f\"Client's churn rate in p_2 is {round(len(df3[df3['product'] == p][df3['segment_y'].isna()])/len(df3[df3['product'] == p])*100, 2)}% for {p} product with {len(df3[df3['product'] == p])} clients in p_1 period\")\n",
      "C:\\Users\\Anastasia\\AppData\\Local\\Temp\\ipykernel_13056\\3602176933.py:4: UserWarning: Boolean Series key will be reindexed to match DataFrame index.\n",
      "  print(f\"Client's churn rate in p_2 is {round(len(df3[df3['product'] == p][df3['segment_y'].isna()])/len(df3[df3['product'] == p])*100, 2)}% for {p} product with {len(df3[df3['product'] == p])} clients in p_1 period\")\n",
      "C:\\Users\\Anastasia\\AppData\\Local\\Temp\\ipykernel_13056\\3602176933.py:4: UserWarning: Boolean Series key will be reindexed to match DataFrame index.\n",
      "  print(f\"Client's churn rate in p_2 is {round(len(df3[df3['product'] == p][df3['segment_y'].isna()])/len(df3[df3['product'] == p])*100, 2)}% for {p} product with {len(df3[df3['product'] == p])} clients in p_1 period\")\n",
      "C:\\Users\\Anastasia\\AppData\\Local\\Temp\\ipykernel_13056\\3602176933.py:4: UserWarning: Boolean Series key will be reindexed to match DataFrame index.\n",
      "  print(f\"Client's churn rate in p_2 is {round(len(df3[df3['product'] == p][df3['segment_y'].isna()])/len(df3[df3['product'] == p])*100, 2)}% for {p} product with {len(df3[df3['product'] == p])} clients in p_1 period\")\n",
      "C:\\Users\\Anastasia\\AppData\\Local\\Temp\\ipykernel_13056\\3602176933.py:4: UserWarning: Boolean Series key will be reindexed to match DataFrame index.\n",
      "  print(f\"Client's churn rate in p_2 is {round(len(df3[df3['product'] == p][df3['segment_y'].isna()])/len(df3[df3['product'] == p])*100, 2)}% for {p} product with {len(df3[df3['product'] == p])} clients in p_1 period\")\n"
     ]
    }
   ],
   "source": [
    "products_list = ['loan', 'settlement and cash services', 'deposit', 'acquiring', 'banking card']\n",
    "\n",
    "for p in products_list:\n",
    "    print(f\"Client's churn rate in p_2 is {round(len(df3[df3['product'] == p][df3['segment_y'].isna()])/len(df3[df3['product'] == p])*100, 2)}% for {p} product with {len(df3[df3['product'] == p])} clients in p_1 period\")\n"
   ]
  },
  {
   "cell_type": "code",
   "execution_count": 337,
   "metadata": {},
   "outputs": [
    {
     "data": {
      "text/plain": [
       "\"Client's churn rate in p_2 is 22.2%\""
      ]
     },
     "execution_count": 337,
     "metadata": {},
     "output_type": "execute_result"
    }
   ],
   "source": [
    "# Let's consider how many products the client had in the first period and in the second. \n",
    "# if the number of products has decreased, it will be considered an outflow\n",
    "df_p_1 = df1.groupby('client_id').agg({'product': 'count'}).reset_index().rename(columns={'product': 'number_of_products'})\n",
    "df_p_2 = df2.groupby('client_id').agg({'product': 'count'}).reset_index().rename(columns={'product': 'number_of_products'})\n",
    "df_p_1_2 = df_p_1.merge(df_p_2, how='left', left_on=['client_id'], right_on=['client_id'], suffixes=('_1', '_2'))\n",
    "df_p_1_2['number_of_products_2'] = df_p_1_2['number_of_products_2'].fillna(0)\n",
    "\n",
    "f\"Client's churn rate in p_2 is {round(len(df_p_1_2[df_p_1_2['number_of_products_2']< df_p_1_2['number_of_products_1']])/len(df_p_1_2)*100, 2)}%\""
   ]
  },
  {
   "cell_type": "markdown",
   "metadata": {},
   "source": [
    "### 4. Calculate the amount of net operating income raised by each manager during the marketing campaign"
   ]
  },
  {
   "cell_type": "code",
   "execution_count": 224,
   "metadata": {},
   "outputs": [
    {
     "data": {
      "text/html": [
       "<div>\n",
       "<style scoped>\n",
       "    .dataframe tbody tr th:only-of-type {\n",
       "        vertical-align: middle;\n",
       "    }\n",
       "\n",
       "    .dataframe tbody tr th {\n",
       "        vertical-align: top;\n",
       "    }\n",
       "\n",
       "    .dataframe thead th {\n",
       "        text-align: right;\n",
       "    }\n",
       "</style>\n",
       "<table border=\"1\" class=\"dataframe\">\n",
       "  <thead>\n",
       "    <tr style=\"text-align: right;\">\n",
       "      <th></th>\n",
       "      <th>client_id</th>\n",
       "      <th>product</th>\n",
       "      <th>response</th>\n",
       "      <th>manager_id</th>\n",
       "    </tr>\n",
       "  </thead>\n",
       "  <tbody>\n",
       "    <tr>\n",
       "      <th>0</th>\n",
       "      <td>owOyJEIst9</td>\n",
       "      <td>Кредит</td>\n",
       "      <td>Согласие</td>\n",
       "      <td>CM_EiBeeRMhdA</td>\n",
       "    </tr>\n",
       "    <tr>\n",
       "      <th>1</th>\n",
       "      <td>HkhuPN1KG7</td>\n",
       "      <td>Кредит</td>\n",
       "      <td>Не обработано менеджером</td>\n",
       "      <td>CM_PzEEav4ic0</td>\n",
       "    </tr>\n",
       "    <tr>\n",
       "      <th>2</th>\n",
       "      <td>x1rEdC5fys</td>\n",
       "      <td>Кредит</td>\n",
       "      <td>Согласие</td>\n",
       "      <td>CM_RCwv1r0OHO</td>\n",
       "    </tr>\n",
       "    <tr>\n",
       "      <th>3</th>\n",
       "      <td>fx0acVADvj</td>\n",
       "      <td>Кредит</td>\n",
       "      <td>Согласие</td>\n",
       "      <td>CM_nJ7j5pAcMB</td>\n",
       "    </tr>\n",
       "    <tr>\n",
       "      <th>4</th>\n",
       "      <td>nDNNydkKQR</td>\n",
       "      <td>Кредит</td>\n",
       "      <td>Согласие</td>\n",
       "      <td>CM_EiBeeRMhdA</td>\n",
       "    </tr>\n",
       "  </tbody>\n",
       "</table>\n",
       "</div>"
      ],
      "text/plain": [
       "    client_id product                  response     manager_id\n",
       "0  owOyJEIst9  Кредит                  Согласие  CM_EiBeeRMhdA\n",
       "1  HkhuPN1KG7  Кредит  Не обработано менеджером  CM_PzEEav4ic0\n",
       "2  x1rEdC5fys  Кредит                  Согласие  CM_RCwv1r0OHO\n",
       "3  fx0acVADvj  Кредит                  Согласие  CM_nJ7j5pAcMB\n",
       "4  nDNNydkKQR  Кредит                  Согласие  CM_EiBeeRMhdA"
      ]
     },
     "execution_count": 224,
     "metadata": {},
     "output_type": "execute_result"
    }
   ],
   "source": [
    "query = 'SELECT * FROM campaign'\n",
    "con = sql.connect('database.db')\n",
    "df4 = pd.read_sql_query(sql = query, con=con)\n",
    "con.close()\n",
    "\n",
    "df4.head(5)"
   ]
  },
  {
   "cell_type": "code",
   "execution_count": 306,
   "metadata": {},
   "outputs": [
    {
     "data": {
      "text/plain": [
       "array(['Кредит'], dtype=object)"
      ]
     },
     "execution_count": 306,
     "metadata": {},
     "output_type": "execute_result"
    }
   ],
   "source": [
    "df4['product'].unique()"
   ]
  },
  {
   "cell_type": "raw",
   "metadata": {},
   "source": [
    "Marketing campaign offered only loans to clients"
   ]
  },
  {
   "cell_type": "code",
   "execution_count": 339,
   "metadata": {},
   "outputs": [
    {
     "data": {
      "text/html": [
       "<div>\n",
       "<style scoped>\n",
       "    .dataframe tbody tr th:only-of-type {\n",
       "        vertical-align: middle;\n",
       "    }\n",
       "\n",
       "    .dataframe tbody tr th {\n",
       "        vertical-align: top;\n",
       "    }\n",
       "\n",
       "    .dataframe thead th {\n",
       "        text-align: right;\n",
       "    }\n",
       "</style>\n",
       "<table border=\"1\" class=\"dataframe\">\n",
       "  <thead>\n",
       "    <tr style=\"text-align: right;\">\n",
       "      <th></th>\n",
       "      <th>client_id</th>\n",
       "      <th>product</th>\n",
       "      <th>response</th>\n",
       "      <th>manager_id</th>\n",
       "    </tr>\n",
       "  </thead>\n",
       "  <tbody>\n",
       "    <tr>\n",
       "      <th>0</th>\n",
       "      <td>owOyJEIst9</td>\n",
       "      <td>loan</td>\n",
       "      <td>agree</td>\n",
       "      <td>CM_EiBeeRMhdA</td>\n",
       "    </tr>\n",
       "    <tr>\n",
       "      <th>1</th>\n",
       "      <td>HkhuPN1KG7</td>\n",
       "      <td>loan</td>\n",
       "      <td>not processed by manager</td>\n",
       "      <td>CM_PzEEav4ic0</td>\n",
       "    </tr>\n",
       "    <tr>\n",
       "      <th>2</th>\n",
       "      <td>x1rEdC5fys</td>\n",
       "      <td>loan</td>\n",
       "      <td>agree</td>\n",
       "      <td>CM_RCwv1r0OHO</td>\n",
       "    </tr>\n",
       "    <tr>\n",
       "      <th>3</th>\n",
       "      <td>fx0acVADvj</td>\n",
       "      <td>loan</td>\n",
       "      <td>agree</td>\n",
       "      <td>CM_nJ7j5pAcMB</td>\n",
       "    </tr>\n",
       "    <tr>\n",
       "      <th>4</th>\n",
       "      <td>nDNNydkKQR</td>\n",
       "      <td>loan</td>\n",
       "      <td>agree</td>\n",
       "      <td>CM_EiBeeRMhdA</td>\n",
       "    </tr>\n",
       "  </tbody>\n",
       "</table>\n",
       "</div>"
      ],
      "text/plain": [
       "    client_id product                  response     manager_id\n",
       "0  owOyJEIst9    loan                     agree  CM_EiBeeRMhdA\n",
       "1  HkhuPN1KG7    loan  not processed by manager  CM_PzEEav4ic0\n",
       "2  x1rEdC5fys    loan                     agree  CM_RCwv1r0OHO\n",
       "3  fx0acVADvj    loan                     agree  CM_nJ7j5pAcMB\n",
       "4  nDNNydkKQR    loan                     agree  CM_EiBeeRMhdA"
      ]
     },
     "execution_count": 339,
     "metadata": {},
     "output_type": "execute_result"
    }
   ],
   "source": [
    "df4_dict = {'Согласие': 'agree', \n",
    "            'Не обработано менеджером': 'not processed by manager', \n",
    "            'Недозвон':  \"didn't get through\", \n",
    "            'Перезвонить': 'call back',\n",
    "            'Отказ': 'refusal'}\n",
    "df4_product = {'Кредит': 'loan'}\n",
    "df4['response'].replace(df4_dict, inplace=True)\n",
    "df4['product'].replace(df4_product, inplace=True)\n",
    "df4.head(5)"
   ]
  },
  {
   "cell_type": "code",
   "execution_count": 355,
   "metadata": {},
   "outputs": [
    {
     "data": {
      "text/plain": [
       "array(['agree', 'not processed by manager', \"didn't get through\",\n",
       "       'call back', 'refusal'], dtype=object)"
      ]
     },
     "execution_count": 355,
     "metadata": {},
     "output_type": "execute_result"
    }
   ],
   "source": [
    "df4['response'].unique()"
   ]
  },
  {
   "cell_type": "code",
   "execution_count": 341,
   "metadata": {},
   "outputs": [
    {
     "data": {
      "text/plain": [
       "<Axes: ylabel='response'>"
      ]
     },
     "execution_count": 341,
     "metadata": {},
     "output_type": "execute_result"
    },
    {
     "data": {
      "image/png": "[encoded data removed]",
      "text/plain": [
       "<Figure size 640x480 with 1 Axes>"
      ]
     },
     "metadata": {},
     "output_type": "display_data"
    }
   ],
   "source": [
    "df4.groupby(['response']).agg({'client_id': 'count'}).reset_index().rename(columns={'client_id': 'num_of_resposes'}).plot(kind='barh', x='response')"
   ]
  },
  {
   "cell_type": "code",
   "execution_count": 342,
   "metadata": {},
   "outputs": [
    {
     "data": {
      "text/plain": [
       "<Axes: >"
      ]
     },
     "execution_count": 342,
     "metadata": {},
     "output_type": "execute_result"
    },
    {
     "data": {
      "image/png": "[encoded data removed]",
      "text/plain": [
       "<Figure size 640x480 with 1 Axes>"
      ]
     },
     "metadata": {},
     "output_type": "display_data"
    }
   ],
   "source": [
    "#explore the activity of managers\n",
    "managers_activity = df4.groupby(['manager_id']).agg({'client_id': 'count'}).reset_index().rename(columns={'client_id': 'num_of_clients'})\n",
    "managers_activity.boxplot()"
   ]
  },
  {
   "cell_type": "code",
   "execution_count": 343,
   "metadata": {},
   "outputs": [
    {
     "data": {
      "text/plain": [
       "count     20.000000\n",
       "mean     250.000000\n",
       "std        9.926042\n",
       "min      229.000000\n",
       "25%      245.250000\n",
       "50%      254.000000\n",
       "75%      255.500000\n",
       "max      264.000000\n",
       "Name: num_of_clients, dtype: float64"
      ]
     },
     "execution_count": 343,
     "metadata": {},
     "output_type": "execute_result"
    }
   ],
   "source": [
    "managers_activity['num_of_clients'].describe()"
   ]
  },
  {
   "cell_type": "raw",
   "metadata": {},
   "source": [
    "20 bank's managers have on average 250 clients, most managers have 254 clients. 50% of managers have from 245.25 to 255.5 clients\n",
    "one manager with 229 clients can be considered as outlier, but it doesn't matter in our case"
   ]
  },
  {
   "cell_type": "code",
   "execution_count": 357,
   "metadata": {},
   "outputs": [],
   "source": [
    "campaign_sales = df4[df4['response'] == 'agree']"
   ]
  },
  {
   "cell_type": "code",
   "execution_count": 358,
   "metadata": {},
   "outputs": [
    {
     "data": {
      "text/html": [
       "<div>\n",
       "<style scoped>\n",
       "    .dataframe tbody tr th:only-of-type {\n",
       "        vertical-align: middle;\n",
       "    }\n",
       "\n",
       "    .dataframe tbody tr th {\n",
       "        vertical-align: top;\n",
       "    }\n",
       "\n",
       "    .dataframe thead th {\n",
       "        text-align: right;\n",
       "    }\n",
       "</style>\n",
       "<table border=\"1\" class=\"dataframe\">\n",
       "  <thead>\n",
       "    <tr style=\"text-align: right;\">\n",
       "      <th></th>\n",
       "      <th>manager_id</th>\n",
       "      <th>pl</th>\n",
       "      <th>num_of_clients</th>\n",
       "    </tr>\n",
       "  </thead>\n",
       "  <tbody>\n",
       "    <tr>\n",
       "      <th>0</th>\n",
       "      <td>CM_2755B4KTu4</td>\n",
       "      <td>16600.098122</td>\n",
       "      <td>261</td>\n",
       "    </tr>\n",
       "    <tr>\n",
       "      <th>18</th>\n",
       "      <td>CM_wjb2ArrpAw</td>\n",
       "      <td>14136.285720</td>\n",
       "      <td>257</td>\n",
       "    </tr>\n",
       "    <tr>\n",
       "      <th>6</th>\n",
       "      <td>CM_R7BdTh0Svt</td>\n",
       "      <td>14119.009958</td>\n",
       "      <td>246</td>\n",
       "    </tr>\n",
       "    <tr>\n",
       "      <th>13</th>\n",
       "      <td>CM_gHP4ykbzTj</td>\n",
       "      <td>14106.604720</td>\n",
       "      <td>248</td>\n",
       "    </tr>\n",
       "    <tr>\n",
       "      <th>17</th>\n",
       "      <td>CM_pMFgOhtUKD</td>\n",
       "      <td>13543.156752</td>\n",
       "      <td>254</td>\n",
       "    </tr>\n",
       "    <tr>\n",
       "      <th>1</th>\n",
       "      <td>CM_6ofody41cY</td>\n",
       "      <td>13407.509851</td>\n",
       "      <td>263</td>\n",
       "    </tr>\n",
       "    <tr>\n",
       "      <th>8</th>\n",
       "      <td>CM_c28lGRRaEI</td>\n",
       "      <td>13358.891157</td>\n",
       "      <td>254</td>\n",
       "    </tr>\n",
       "    <tr>\n",
       "      <th>11</th>\n",
       "      <td>CM_eE0WMK1vVW</td>\n",
       "      <td>13298.954882</td>\n",
       "      <td>255</td>\n",
       "    </tr>\n",
       "    <tr>\n",
       "      <th>5</th>\n",
       "      <td>CM_PzEEav4ic0</td>\n",
       "      <td>12933.254512</td>\n",
       "      <td>251</td>\n",
       "    </tr>\n",
       "    <tr>\n",
       "      <th>4</th>\n",
       "      <td>CM_EiBeeRMhdA</td>\n",
       "      <td>12820.881592</td>\n",
       "      <td>264</td>\n",
       "    </tr>\n",
       "    <tr>\n",
       "      <th>19</th>\n",
       "      <td>CM_zShYeVNFi0</td>\n",
       "      <td>12803.487882</td>\n",
       "      <td>248</td>\n",
       "    </tr>\n",
       "    <tr>\n",
       "      <th>14</th>\n",
       "      <td>CM_lKxhD73Z6d</td>\n",
       "      <td>12177.633504</td>\n",
       "      <td>255</td>\n",
       "    </tr>\n",
       "    <tr>\n",
       "      <th>7</th>\n",
       "      <td>CM_RCwv1r0OHO</td>\n",
       "      <td>12056.911018</td>\n",
       "      <td>257</td>\n",
       "    </tr>\n",
       "    <tr>\n",
       "      <th>15</th>\n",
       "      <td>CM_nJ7j5pAcMB</td>\n",
       "      <td>12049.947692</td>\n",
       "      <td>229</td>\n",
       "    </tr>\n",
       "    <tr>\n",
       "      <th>2</th>\n",
       "      <td>CM_70HjN0EVqf</td>\n",
       "      <td>11831.278026</td>\n",
       "      <td>254</td>\n",
       "    </tr>\n",
       "    <tr>\n",
       "      <th>10</th>\n",
       "      <td>CM_doxY9cvELI</td>\n",
       "      <td>11798.365500</td>\n",
       "      <td>243</td>\n",
       "    </tr>\n",
       "    <tr>\n",
       "      <th>12</th>\n",
       "      <td>CM_fQHTUUUkXc</td>\n",
       "      <td>11555.109774</td>\n",
       "      <td>254</td>\n",
       "    </tr>\n",
       "    <tr>\n",
       "      <th>9</th>\n",
       "      <td>CM_dcTdLjqH2x</td>\n",
       "      <td>11222.567189</td>\n",
       "      <td>241</td>\n",
       "    </tr>\n",
       "    <tr>\n",
       "      <th>16</th>\n",
       "      <td>CM_onY6ha8qHv</td>\n",
       "      <td>11143.199671</td>\n",
       "      <td>233</td>\n",
       "    </tr>\n",
       "    <tr>\n",
       "      <th>3</th>\n",
       "      <td>CM_9vMKq9aqw9</td>\n",
       "      <td>11080.970431</td>\n",
       "      <td>233</td>\n",
       "    </tr>\n",
       "  </tbody>\n",
       "</table>\n",
       "</div>"
      ],
      "text/plain": [
       "       manager_id            pl  num_of_clients\n",
       "0   CM_2755B4KTu4  16600.098122             261\n",
       "18  CM_wjb2ArrpAw  14136.285720             257\n",
       "6   CM_R7BdTh0Svt  14119.009958             246\n",
       "13  CM_gHP4ykbzTj  14106.604720             248\n",
       "17  CM_pMFgOhtUKD  13543.156752             254\n",
       "1   CM_6ofody41cY  13407.509851             263\n",
       "8   CM_c28lGRRaEI  13358.891157             254\n",
       "11  CM_eE0WMK1vVW  13298.954882             255\n",
       "5   CM_PzEEav4ic0  12933.254512             251\n",
       "4   CM_EiBeeRMhdA  12820.881592             264\n",
       "19  CM_zShYeVNFi0  12803.487882             248\n",
       "14  CM_lKxhD73Z6d  12177.633504             255\n",
       "7   CM_RCwv1r0OHO  12056.911018             257\n",
       "15  CM_nJ7j5pAcMB  12049.947692             229\n",
       "2   CM_70HjN0EVqf  11831.278026             254\n",
       "10  CM_doxY9cvELI  11798.365500             243\n",
       "12  CM_fQHTUUUkXc  11555.109774             254\n",
       "9   CM_dcTdLjqH2x  11222.567189             241\n",
       "16  CM_onY6ha8qHv  11143.199671             233\n",
       "3   CM_9vMKq9aqw9  11080.970431             233"
      ]
     },
     "execution_count": 358,
     "metadata": {},
     "output_type": "execute_result"
    }
   ],
   "source": [
    "(\n",
    "    campaign_sales.merge(df2, how='inner', left_on=['client_id', 'product'], right_on=['client_id', 'product']).\n",
    "    groupby(['manager_id']).\n",
    "    agg({'pl': 'sum'}).\n",
    "    reset_index().\n",
    "    merge(managers_activity, how='inner', left_on=['manager_id'], right_on=['manager_id']).\n",
    "    sort_values(by=['pl'], ascending=False)\n",
    ")"
   ]
  },
  {
   "cell_type": "markdown",
   "metadata": {},
   "source": [
    "### 5. Evaluate the effectiveness of a marketing campaign"
   ]
  },
  {
   "cell_type": "code",
   "execution_count": 359,
   "metadata": {},
   "outputs": [
    {
     "data": {
      "text/html": [
       "<div>\n",
       "<style scoped>\n",
       "    .dataframe tbody tr th:only-of-type {\n",
       "        vertical-align: middle;\n",
       "    }\n",
       "\n",
       "    .dataframe tbody tr th {\n",
       "        vertical-align: top;\n",
       "    }\n",
       "\n",
       "    .dataframe thead th {\n",
       "        text-align: right;\n",
       "    }\n",
       "</style>\n",
       "<table border=\"1\" class=\"dataframe\">\n",
       "  <thead>\n",
       "    <tr style=\"text-align: right;\">\n",
       "      <th></th>\n",
       "      <th>period</th>\n",
       "      <th>total_pl_in_mln</th>\n",
       "    </tr>\n",
       "  </thead>\n",
       "  <tbody>\n",
       "    <tr>\n",
       "      <th>0</th>\n",
       "      <td>p_1</td>\n",
       "      <td>1148.33</td>\n",
       "    </tr>\n",
       "    <tr>\n",
       "      <th>1</th>\n",
       "      <td>p_2</td>\n",
       "      <td>1651.87</td>\n",
       "    </tr>\n",
       "  </tbody>\n",
       "</table>\n",
       "</div>"
      ],
      "text/plain": [
       "  period  total_pl_in_mln\n",
       "0    p_1          1148.33\n",
       "1    p_2          1651.87"
      ]
     },
     "execution_count": 359,
     "metadata": {},
     "output_type": "execute_result"
    }
   ],
   "source": [
    "# compare sales for 2 periods\n",
    "total_pl_by_period = df.groupby(['period']).agg({'pl': 'sum'}).reset_index()\n",
    "total_pl_by_period['pl'] = round(total_pl_by_period['pl'] / 1000, 2)\n",
    "total_pl_by_period = total_pl_by_period.rename(columns={'pl': 'total_pl_in_mln'})\n",
    "total_pl_by_period"
   ]
  },
  {
   "cell_type": "code",
   "execution_count": 360,
   "metadata": {},
   "outputs": [
    {
     "data": {
      "text/plain": [
       "'Total net operating income increased in p_2 by 43.85%'"
      ]
     },
     "execution_count": 360,
     "metadata": {},
     "output_type": "execute_result"
    }
   ],
   "source": [
    "f\"Total net operating income increased in p_2 by \\\n",
    "{round((total_pl_by_period['total_pl_in_mln'][1] / total_pl_by_period['total_pl_in_mln'][0] - 1)*100, 2)}%\""
   ]
  },
  {
   "cell_type": "code",
   "execution_count": 399,
   "metadata": {},
   "outputs": [
    {
     "data": {
      "text/plain": [
       "<Axes: title={'center': 'Sales compaign responses'}>"
      ]
     },
     "execution_count": 399,
     "metadata": {},
     "output_type": "execute_result"
    },
    {
     "data": {
      "image/png": "[encoded data removed]",
      "text/plain": [
       "<Figure size 640x480 with 1 Axes>"
      ]
     },
     "metadata": {},
     "output_type": "display_data"
    }
   ],
   "source": [
    "(\n",
    "    df4.groupby(['response']).\n",
    "     agg({'manager_id': 'count'}).\n",
    "     sort_values(by=['manager_id'], ascending=True).\n",
    "     plot.pie(y='manager_id', autopct=\"%1.1f%%\", legend=False, title='Sales compaign responses', label=\"\", rot=90)\n",
    ")"
   ]
  },
  {
   "cell_type": "code",
   "execution_count": 362,
   "metadata": {},
   "outputs": [
    {
     "data": {
      "text/plain": [
       "\"56.32% of clients gave positive response to manager's offer\""
      ]
     },
     "execution_count": 362,
     "metadata": {},
     "output_type": "execute_result"
    }
   ],
   "source": [
    "f\"{df4[df4['response'] == 'agree']['client_id'].count()/df4['client_id'].count()*100}% of clients gave positive response to manager's offer\""
   ]
  },
  {
   "cell_type": "code",
   "execution_count": 373,
   "metadata": {},
   "outputs": [
    {
     "data": {
      "text/html": [
       "<div>\n",
       "<style scoped>\n",
       "    .dataframe tbody tr th:only-of-type {\n",
       "        vertical-align: middle;\n",
       "    }\n",
       "\n",
       "    .dataframe tbody tr th {\n",
       "        vertical-align: top;\n",
       "    }\n",
       "\n",
       "    .dataframe thead th {\n",
       "        text-align: right;\n",
       "    }\n",
       "</style>\n",
       "<table border=\"1\" class=\"dataframe\">\n",
       "  <thead>\n",
       "    <tr style=\"text-align: right;\">\n",
       "      <th></th>\n",
       "      <th>client_id</th>\n",
       "      <th>segment</th>\n",
       "      <th>period</th>\n",
       "      <th>product_x</th>\n",
       "      <th>pl</th>\n",
       "      <th>product_y</th>\n",
       "      <th>response</th>\n",
       "      <th>manager_id</th>\n",
       "    </tr>\n",
       "  </thead>\n",
       "  <tbody>\n",
       "    <tr>\n",
       "      <th>7486</th>\n",
       "      <td>XHgfHt3boG</td>\n",
       "      <td>mass</td>\n",
       "      <td>p_1</td>\n",
       "      <td>settlement and cash services</td>\n",
       "      <td>0.496066</td>\n",
       "      <td>loan</td>\n",
       "      <td>agree</td>\n",
       "      <td>CM_RCwv1r0OHO</td>\n",
       "    </tr>\n",
       "    <tr>\n",
       "      <th>7497</th>\n",
       "      <td>faWYjccoeJ</td>\n",
       "      <td>mass</td>\n",
       "      <td>p_1</td>\n",
       "      <td>settlement and cash services</td>\n",
       "      <td>0.084716</td>\n",
       "      <td>loan</td>\n",
       "      <td>agree</td>\n",
       "      <td>CM_6ofody41cY</td>\n",
       "    </tr>\n",
       "    <tr>\n",
       "      <th>7519</th>\n",
       "      <td>o63q9tMgDW</td>\n",
       "      <td>standart</td>\n",
       "      <td>p_1</td>\n",
       "      <td>settlement and cash services</td>\n",
       "      <td>6.002074</td>\n",
       "      <td>loan</td>\n",
       "      <td>agree</td>\n",
       "      <td>CM_PzEEav4ic0</td>\n",
       "    </tr>\n",
       "    <tr>\n",
       "      <th>7525</th>\n",
       "      <td>GN5jmuNR0V</td>\n",
       "      <td>mass</td>\n",
       "      <td>p_1</td>\n",
       "      <td>settlement and cash services</td>\n",
       "      <td>0.038085</td>\n",
       "      <td>loan</td>\n",
       "      <td>agree</td>\n",
       "      <td>CM_RCwv1r0OHO</td>\n",
       "    </tr>\n",
       "    <tr>\n",
       "      <th>7529</th>\n",
       "      <td>cNkUmbtphI</td>\n",
       "      <td>mass</td>\n",
       "      <td>p_1</td>\n",
       "      <td>settlement and cash services</td>\n",
       "      <td>2.380283</td>\n",
       "      <td>loan</td>\n",
       "      <td>agree</td>\n",
       "      <td>CM_9vMKq9aqw9</td>\n",
       "    </tr>\n",
       "    <tr>\n",
       "      <th>...</th>\n",
       "      <td>...</td>\n",
       "      <td>...</td>\n",
       "      <td>...</td>\n",
       "      <td>...</td>\n",
       "      <td>...</td>\n",
       "      <td>...</td>\n",
       "      <td>...</td>\n",
       "      <td>...</td>\n",
       "    </tr>\n",
       "    <tr>\n",
       "      <th>92592</th>\n",
       "      <td>pvs9tZ1xKV</td>\n",
       "      <td>upper</td>\n",
       "      <td>p_2</td>\n",
       "      <td>banking card</td>\n",
       "      <td>59.801674</td>\n",
       "      <td>loan</td>\n",
       "      <td>agree</td>\n",
       "      <td>CM_c28lGRRaEI</td>\n",
       "    </tr>\n",
       "    <tr>\n",
       "      <th>92594</th>\n",
       "      <td>xFyYPhZxgB</td>\n",
       "      <td>mass</td>\n",
       "      <td>p_2</td>\n",
       "      <td>banking card</td>\n",
       "      <td>0.271522</td>\n",
       "      <td>loan</td>\n",
       "      <td>agree</td>\n",
       "      <td>CM_gHP4ykbzTj</td>\n",
       "    </tr>\n",
       "    <tr>\n",
       "      <th>92595</th>\n",
       "      <td>rQfRs1CImu</td>\n",
       "      <td>mass</td>\n",
       "      <td>p_2</td>\n",
       "      <td>banking card</td>\n",
       "      <td>11.458721</td>\n",
       "      <td>loan</td>\n",
       "      <td>agree</td>\n",
       "      <td>CM_pMFgOhtUKD</td>\n",
       "    </tr>\n",
       "    <tr>\n",
       "      <th>92596</th>\n",
       "      <td>rnu6eQqdG0</td>\n",
       "      <td>mass</td>\n",
       "      <td>p_2</td>\n",
       "      <td>banking card</td>\n",
       "      <td>7.992750</td>\n",
       "      <td>loan</td>\n",
       "      <td>agree</td>\n",
       "      <td>CM_zShYeVNFi0</td>\n",
       "    </tr>\n",
       "    <tr>\n",
       "      <th>92598</th>\n",
       "      <td>2DB3cF7MS4</td>\n",
       "      <td>mass</td>\n",
       "      <td>p_2</td>\n",
       "      <td>banking card</td>\n",
       "      <td>3.100490</td>\n",
       "      <td>loan</td>\n",
       "      <td>agree</td>\n",
       "      <td>CM_6ofody41cY</td>\n",
       "    </tr>\n",
       "  </tbody>\n",
       "</table>\n",
       "<p>11093 rows × 8 columns</p>\n",
       "</div>"
      ],
      "text/plain": [
       "        client_id   segment period                     product_x         pl  \\\n",
       "7486   XHgfHt3boG      mass    p_1  settlement and cash services   0.496066   \n",
       "7497   faWYjccoeJ      mass    p_1  settlement and cash services   0.084716   \n",
       "7519   o63q9tMgDW  standart    p_1  settlement and cash services   6.002074   \n",
       "7525   GN5jmuNR0V      mass    p_1  settlement and cash services   0.038085   \n",
       "7529   cNkUmbtphI      mass    p_1  settlement and cash services   2.380283   \n",
       "...           ...       ...    ...                           ...        ...   \n",
       "92592  pvs9tZ1xKV     upper    p_2                  banking card  59.801674   \n",
       "92594  xFyYPhZxgB      mass    p_2                  banking card   0.271522   \n",
       "92595  rQfRs1CImu      mass    p_2                  banking card  11.458721   \n",
       "92596  rnu6eQqdG0      mass    p_2                  banking card   7.992750   \n",
       "92598  2DB3cF7MS4      mass    p_2                  banking card   3.100490   \n",
       "\n",
       "      product_y response     manager_id  \n",
       "7486       loan    agree  CM_RCwv1r0OHO  \n",
       "7497       loan    agree  CM_6ofody41cY  \n",
       "7519       loan    agree  CM_PzEEav4ic0  \n",
       "7525       loan    agree  CM_RCwv1r0OHO  \n",
       "7529       loan    agree  CM_9vMKq9aqw9  \n",
       "...         ...      ...            ...  \n",
       "92592      loan    agree  CM_c28lGRRaEI  \n",
       "92594      loan    agree  CM_gHP4ykbzTj  \n",
       "92595      loan    agree  CM_pMFgOhtUKD  \n",
       "92596      loan    agree  CM_zShYeVNFi0  \n",
       "92598      loan    agree  CM_6ofody41cY  \n",
       "\n",
       "[11093 rows x 8 columns]"
      ]
     },
     "execution_count": 373,
     "metadata": {},
     "output_type": "execute_result"
    }
   ],
   "source": [
    "positive_response = df4[df4['response'] == 'agree']\n",
    "df_response_agree = df.merge(positive_response, how='left', right_on='client_id', left_on='client_id')\n",
    "df_response_agree[~df_response_agree['product_y'].isna()]"
   ]
  },
  {
   "cell_type": "code",
   "execution_count": 374,
   "metadata": {},
   "outputs": [],
   "source": [
    "#check how many clients chose loan product without marketing campaign in second period"
   ]
  },
  {
   "cell_type": "raw",
   "metadata": {},
   "source": [
    "Let's think that client is not involved in marketing compaign if response is 'not processed by manager' or 'didn't get through'"
   ]
  },
  {
   "cell_type": "code",
   "execution_count": 414,
   "metadata": {},
   "outputs": [],
   "source": [
    "clients_in_campaign = list(df4[df4['response'].isin(['agree', 'refusal', 'call back'])]['client_id'])"
   ]
  },
  {
   "cell_type": "code",
   "execution_count": 411,
   "metadata": {},
   "outputs": [],
   "source": [
    "# number of clients who didn't participate in marketing campaign and didn't have loan product in p_1"
   ]
  },
  {
   "cell_type": "code",
   "execution_count": 453,
   "metadata": {},
   "outputs": [
    {
     "name": "stderr",
     "output_type": "stream",
     "text": [
      "C:\\Users\\Anastasia\\AppData\\Local\\Temp\\ipykernel_13056\\619213555.py:8: SettingWithCopyWarning: \n",
      "A value is trying to be set on a copy of a slice from a DataFrame.\n",
      "Try using .loc[row_indexer,col_indexer] = value instead\n",
      "\n",
      "See the caveats in the documentation: https://pandas.pydata.org/pandas-docs/stable/user_guide/indexing.html#returning-a-view-versus-a-copy\n",
      "  a['loan_in_1'] = a['product_1'].str.contains('loan', regex=False)\n",
      "C:\\Users\\Anastasia\\AppData\\Local\\Temp\\ipykernel_13056\\619213555.py:9: SettingWithCopyWarning: \n",
      "A value is trying to be set on a copy of a slice from a DataFrame.\n",
      "Try using .loc[row_indexer,col_indexer] = value instead\n",
      "\n",
      "See the caveats in the documentation: https://pandas.pydata.org/pandas-docs/stable/user_guide/indexing.html#returning-a-view-versus-a-copy\n",
      "  a['loan_in_2'] = a['product_2'].str.contains('loan', regex=False)\n"
     ]
    },
    {
     "data": {
      "text/html": [
       "<div>\n",
       "<style scoped>\n",
       "    .dataframe tbody tr th:only-of-type {\n",
       "        vertical-align: middle;\n",
       "    }\n",
       "\n",
       "    .dataframe tbody tr th {\n",
       "        vertical-align: top;\n",
       "    }\n",
       "\n",
       "    .dataframe thead th {\n",
       "        text-align: right;\n",
       "    }\n",
       "</style>\n",
       "<table border=\"1\" class=\"dataframe\">\n",
       "  <thead>\n",
       "    <tr style=\"text-align: right;\">\n",
       "      <th></th>\n",
       "      <th>segment</th>\n",
       "      <th>client_id</th>\n",
       "      <th>product_1</th>\n",
       "      <th>product_2</th>\n",
       "      <th>loan_in_1</th>\n",
       "      <th>loan_in_2</th>\n",
       "    </tr>\n",
       "  </thead>\n",
       "  <tbody>\n",
       "    <tr>\n",
       "      <th>0</th>\n",
       "      <td>mass</td>\n",
       "      <td>00AOGn2rc2</td>\n",
       "      <td>[settlement and cash services]</td>\n",
       "      <td>[settlement and cash services]</td>\n",
       "      <td>False</td>\n",
       "      <td>False</td>\n",
       "    </tr>\n",
       "    <tr>\n",
       "      <th>1</th>\n",
       "      <td>mass</td>\n",
       "      <td>00JURPZFUt</td>\n",
       "      <td>[loan, settlement and cash services]</td>\n",
       "      <td>[settlement and cash services, banking card]</td>\n",
       "      <td>True</td>\n",
       "      <td>False</td>\n",
       "    </tr>\n",
       "    <tr>\n",
       "      <th>3</th>\n",
       "      <td>mass</td>\n",
       "      <td>01I0550QBF</td>\n",
       "      <td>[settlement and cash services]</td>\n",
       "      <td>[settlement and cash services]</td>\n",
       "      <td>False</td>\n",
       "      <td>False</td>\n",
       "    </tr>\n",
       "    <tr>\n",
       "      <th>5</th>\n",
       "      <td>mass</td>\n",
       "      <td>01hLVZzHfy</td>\n",
       "      <td>[settlement and cash services, deposit]</td>\n",
       "      <td>[loan, settlement and cash services]</td>\n",
       "      <td>False</td>\n",
       "      <td>True</td>\n",
       "    </tr>\n",
       "    <tr>\n",
       "      <th>6</th>\n",
       "      <td>mass</td>\n",
       "      <td>01zOvj2ido</td>\n",
       "      <td>[acquiring]</td>\n",
       "      <td>[settlement and cash services, acquiring]</td>\n",
       "      <td>False</td>\n",
       "      <td>False</td>\n",
       "    </tr>\n",
       "    <tr>\n",
       "      <th>...</th>\n",
       "      <td>...</td>\n",
       "      <td>...</td>\n",
       "      <td>...</td>\n",
       "      <td>...</td>\n",
       "      <td>...</td>\n",
       "      <td>...</td>\n",
       "    </tr>\n",
       "    <tr>\n",
       "      <th>24456</th>\n",
       "      <td>upper</td>\n",
       "      <td>zjll2hZeUf</td>\n",
       "      <td>[settlement and cash services]</td>\n",
       "      <td>[settlement and cash services]</td>\n",
       "      <td>False</td>\n",
       "      <td>False</td>\n",
       "    </tr>\n",
       "    <tr>\n",
       "      <th>24457</th>\n",
       "      <td>upper</td>\n",
       "      <td>zns6rOyVJw</td>\n",
       "      <td>[settlement and cash services]</td>\n",
       "      <td>[settlement and cash services, deposit]</td>\n",
       "      <td>False</td>\n",
       "      <td>False</td>\n",
       "    </tr>\n",
       "    <tr>\n",
       "      <th>24458</th>\n",
       "      <td>upper</td>\n",
       "      <td>zq0XyHZBPh</td>\n",
       "      <td>[settlement and cash services]</td>\n",
       "      <td>[settlement and cash services, acquiring]</td>\n",
       "      <td>False</td>\n",
       "      <td>False</td>\n",
       "    </tr>\n",
       "    <tr>\n",
       "      <th>24459</th>\n",
       "      <td>upper</td>\n",
       "      <td>zrjJeIHI5t</td>\n",
       "      <td>[loan, settlement and cash services]</td>\n",
       "      <td>[settlement and cash services, acquiring]</td>\n",
       "      <td>True</td>\n",
       "      <td>False</td>\n",
       "    </tr>\n",
       "    <tr>\n",
       "      <th>24461</th>\n",
       "      <td>upper</td>\n",
       "      <td>zwbkBNAYIB</td>\n",
       "      <td>[loan, settlement and cash services, deposit]</td>\n",
       "      <td>[settlement and cash services]</td>\n",
       "      <td>True</td>\n",
       "      <td>False</td>\n",
       "    </tr>\n",
       "  </tbody>\n",
       "</table>\n",
       "<p>20821 rows × 6 columns</p>\n",
       "</div>"
      ],
      "text/plain": [
       "      segment   client_id                                      product_1  \\\n",
       "0        mass  00AOGn2rc2                 [settlement and cash services]   \n",
       "1        mass  00JURPZFUt           [loan, settlement and cash services]   \n",
       "3        mass  01I0550QBF                 [settlement and cash services]   \n",
       "5        mass  01hLVZzHfy        [settlement and cash services, deposit]   \n",
       "6        mass  01zOvj2ido                                    [acquiring]   \n",
       "...       ...         ...                                            ...   \n",
       "24456   upper  zjll2hZeUf                 [settlement and cash services]   \n",
       "24457   upper  zns6rOyVJw                 [settlement and cash services]   \n",
       "24458   upper  zq0XyHZBPh                 [settlement and cash services]   \n",
       "24459   upper  zrjJeIHI5t           [loan, settlement and cash services]   \n",
       "24461   upper  zwbkBNAYIB  [loan, settlement and cash services, deposit]   \n",
       "\n",
       "                                          product_2  loan_in_1 loan_in_2  \n",
       "0                    [settlement and cash services]      False     False  \n",
       "1      [settlement and cash services, banking card]       True     False  \n",
       "3                    [settlement and cash services]      False     False  \n",
       "5              [loan, settlement and cash services]      False      True  \n",
       "6         [settlement and cash services, acquiring]      False     False  \n",
       "...                                             ...        ...       ...  \n",
       "24456                [settlement and cash services]      False     False  \n",
       "24457       [settlement and cash services, deposit]      False     False  \n",
       "24458     [settlement and cash services, acquiring]      False     False  \n",
       "24459     [settlement and cash services, acquiring]       True     False  \n",
       "24461                [settlement and cash services]       True     False  \n",
       "\n",
       "[20821 rows x 6 columns]"
      ]
     },
     "execution_count": 453,
     "metadata": {},
     "output_type": "execute_result"
    }
   ],
   "source": [
    "df_1_products_by_client = df[df['period'] == 'p_1'].groupby(['segment', 'client_id'])['product'].apply(list).reset_index()\n",
    "df_2_products_by_client = df[df['period'] == 'p_2'].groupby(['segment', 'client_id'])['product'].apply(list).reset_index()\n",
    "df_all_products = df_1_products_by_client.\\\n",
    "    merge(df_2_products_by_client, how='left', right_on=['segment', 'client_id'], left_on=['segment', 'client_id'], suffixes=('_1', '_2'))\n",
    "\n",
    "a = df_all_products[~df_all_products['client_id'].isin(clients_in_campaign)]\n",
    "\n",
    "a['loan_in_1'] = a['product_1'].str.contains('loan', regex=False)\n",
    "a['loan_in_2'] = a['product_2'].str.contains('loan', regex=False)\n",
    "a"
   ]
  },
  {
   "cell_type": "code",
   "execution_count": 452,
   "metadata": {},
   "outputs": [
    {
     "data": {
      "text/plain": [
       "\"22.64% of clients who didn't take part in marketing campaign took loan in p_2 period vs 56.3% of clients in marketing campaign agreed to take a loan\""
      ]
     },
     "execution_count": 452,
     "metadata": {},
     "output_type": "execute_result"
    }
   ],
   "source": [
    "f\"{round(a[(a['loan_in_1'] == False) & (a['loan_in_2'] == True)].shape[0] / a.shape[0] * 100, 2)}% of clients \\\n",
    "who didn't take part in marketing campaign took loan in p_2 period vs 56.3% of clients in marketing campaign agreed to take a loan\""
   ]
  },
  {
   "cell_type": "raw",
   "metadata": {},
   "source": [
    "Marketing campaign seems to be effective, however we don't know anything how clients were chosen for marketing campaign, random or they somehow were \n",
    "interested in advance in loan product."
   ]
  },
  {
   "cell_type": "markdown",
   "metadata": {},
   "source": [
    "### Main conclusions"
   ]
  },
  {
   "cell_type": "raw",
   "metadata": {},
   "source": [
    "1. Net operating income and number of clients increased in each segment in 2nd period.\n",
    "2. In each segment number of products per client increased in 2nd preiod after marketing campaign from 1.69 to 2.08 on average.\n",
    "3. In each segment number of the most loyal clients who uses all 5 banking products increased in 2nd period, to a greater extent - in mass and standard segment.\n",
    "4. Number of clients in second period increased in all categories except \"settlement and cash services\" for \"mass\" and \"standart\" segments.\n",
    "5. Average net operating income declined in the following categories: \n",
    "    - \"banking card\" in all segments maybe due to a marketing promotion (we don't know the terms of the promotion, but cheaper annual fee for banking          card can explain it).\n",
    "    - \"deposit\" in all segmennts (maybe due to a higher interest rate).\n",
    "    - \"settlement and cash services\" for all segments (maybe due to a reduction in the cost of money transfers).\n",
    "    - \"acquiring\" for all segments (maybe due to a reduction in the cost of money transfers).\n",
    "6. Total net operating income for \"settlement and cash services\" and \"deposit\" decresed in second period in Upper and Standart segments and total net operating income for \"settlement and cash services\" decreased in second period in mass segment.\n",
    "7. 1.47% of clients stopped using bank products in the second period\n",
    "8. 22.2% if clients reduced the number of services used in the second period\n",
    "9. Marketing campaign offered only loans to clients\n",
    "10. 56.32% of clients participating in a marketing campaign gave positive response to manager's offer.\n",
    "11. 22.64% of clients who didn't take part in marketing campaign took loan in second period.\n",
    "12. Total net operating income increased in the second period by 43.85%, main drivers of increase should be examined separetely."
   ]
  }
 ],
 "metadata": {
  "kernelspec": {
   "display_name": "Python 3 (ipykernel)",
   "language": "python",
   "name": "python3"
  },
  "language_info": {
   "codemirror_mode": {
    "name": "ipython",
    "version": 3
   },
   "file_extension": ".py",
   "mimetype": "text/x-python",
   "name": "python",
   "nbconvert_exporter": "python",
   "pygments_lexer": "ipython3",
   "version": "3.11.3"
  }
 },
 "nbformat": 4,
 "nbformat_minor": 4
}
