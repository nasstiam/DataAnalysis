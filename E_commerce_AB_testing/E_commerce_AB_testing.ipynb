{
 "cells": [
  {
   "cell_type": "markdown",
   "id": "5bd48b78-86a5-43bf-8e7f-c0573d48dc70",
   "metadata": {},
   "source": [
    "# A/B тестирование Лендинговой страницы"
   ]
  },
  {
   "cell_type": "markdown",
   "id": "5e80dca0-3220-4832-8d2b-91a8953282a7",
   "metadata": {},
   "source": [
    "## 1. Введение\n",
    "\n",
    "### Цель проведения A/B-теста\n",
    "\n",
    "Целью этого A/B-теста является определение того, улучшает ли новая лендинговая страница коэффициент конверсии по сравнению с существующей лендинговой страницей. Коэффициент конверсии определяется как процент пользователей, которые решают заплатить за продукт компании после посещения лендинговой страницы. Есть ли межстрановые различия в поведении пользователей.\n",
    "\n",
    "### Данные\n",
    "\n",
    "Данные с сайта Kaggle.com https://www.kaggle.com/datasets/ahmedmohameddawoud/ecommerce-ab-testing\n",
    "\n",
    "- id - уникальный идентификатор пользователя\n",
    "- time -  время посещения страницы\n",
    "- con_treat - контрольная или тестовая группы\n",
    "- page - какая версия страницы показывалась\n",
    "- converted - совершил пользователь покупку или нет\n",
    "- country - страна пользователя"
   ]
  },
  {
   "cell_type": "markdown",
   "id": "65c62b20-0b72-4291-8b66-2ea72e926a47",
   "metadata": {},
   "source": [
    "## 2. Предобратботка данных"
   ]
  },
  {
   "cell_type": "code",
   "execution_count": 260,
   "id": "f3b3456c-32a3-4762-be8e-b1d27eb9e2b7",
   "metadata": {},
   "outputs": [],
   "source": [
    "import pandas as pd\n",
    "import matplotlib.pyplot as plt\n",
    "import seaborn as sns\n",
    "import scipy.stats as stats\n",
    "import statsmodels.stats.api as sms\n",
    "from math import ceil, sqrt\n",
    "import numpy as np"
   ]
  },
  {
   "cell_type": "code",
   "execution_count": 142,
   "id": "4daaebcb-0f6f-461a-8b82-894225ec6ebe",
   "metadata": {},
   "outputs": [],
   "source": [
    "df = pd.read_csv('ab_test.csv')\n",
    "df_countries = pd.read_csv('countries_ab.csv')"
   ]
  },
  {
   "cell_type": "code",
   "execution_count": 143,
   "id": "5a820c32-2638-4f6c-b4e3-1229966e5888",
   "metadata": {},
   "outputs": [
    {
     "data": {
      "text/html": [
       "<div>\n",
       "<style scoped>\n",
       "    .dataframe tbody tr th:only-of-type {\n",
       "        vertical-align: middle;\n",
       "    }\n",
       "\n",
       "    .dataframe tbody tr th {\n",
       "        vertical-align: top;\n",
       "    }\n",
       "\n",
       "    .dataframe thead th {\n",
       "        text-align: right;\n",
       "    }\n",
       "</style>\n",
       "<table border=\"1\" class=\"dataframe\">\n",
       "  <thead>\n",
       "    <tr style=\"text-align: right;\">\n",
       "      <th></th>\n",
       "      <th>id</th>\n",
       "      <th>time</th>\n",
       "      <th>con_treat</th>\n",
       "      <th>page</th>\n",
       "      <th>converted</th>\n",
       "    </tr>\n",
       "  </thead>\n",
       "  <tbody>\n",
       "    <tr>\n",
       "      <th>0</th>\n",
       "      <td>851104</td>\n",
       "      <td>11:48.6</td>\n",
       "      <td>control</td>\n",
       "      <td>old_page</td>\n",
       "      <td>0</td>\n",
       "    </tr>\n",
       "    <tr>\n",
       "      <th>1</th>\n",
       "      <td>804228</td>\n",
       "      <td>01:45.2</td>\n",
       "      <td>control</td>\n",
       "      <td>old_page</td>\n",
       "      <td>0</td>\n",
       "    </tr>\n",
       "    <tr>\n",
       "      <th>2</th>\n",
       "      <td>661590</td>\n",
       "      <td>55:06.2</td>\n",
       "      <td>treatment</td>\n",
       "      <td>new_page</td>\n",
       "      <td>0</td>\n",
       "    </tr>\n",
       "    <tr>\n",
       "      <th>3</th>\n",
       "      <td>853541</td>\n",
       "      <td>28:03.1</td>\n",
       "      <td>treatment</td>\n",
       "      <td>new_page</td>\n",
       "      <td>0</td>\n",
       "    </tr>\n",
       "    <tr>\n",
       "      <th>4</th>\n",
       "      <td>864975</td>\n",
       "      <td>52:26.2</td>\n",
       "      <td>control</td>\n",
       "      <td>old_page</td>\n",
       "      <td>1</td>\n",
       "    </tr>\n",
       "  </tbody>\n",
       "</table>\n",
       "</div>"
      ],
      "text/plain": [
       "       id     time  con_treat      page  converted\n",
       "0  851104  11:48.6    control  old_page          0\n",
       "1  804228  01:45.2    control  old_page          0\n",
       "2  661590  55:06.2  treatment  new_page          0\n",
       "3  853541  28:03.1  treatment  new_page          0\n",
       "4  864975  52:26.2    control  old_page          1"
      ]
     },
     "execution_count": 143,
     "metadata": {},
     "output_type": "execute_result"
    }
   ],
   "source": [
    "df.head()"
   ]
  },
  {
   "cell_type": "code",
   "execution_count": 144,
   "id": "20e710d5-2b46-45ad-b72c-9783c55da51c",
   "metadata": {},
   "outputs": [
    {
     "data": {
      "text/plain": [
       "(294478, 5)"
      ]
     },
     "execution_count": 144,
     "metadata": {},
     "output_type": "execute_result"
    }
   ],
   "source": [
    "df.shape"
   ]
  },
  {
   "cell_type": "code",
   "execution_count": 145,
   "id": "a94e3738-6d65-4cea-8d8e-ca7f508f5b08",
   "metadata": {},
   "outputs": [],
   "source": [
    "# переименуем con_treat в group\n",
    "df = df.rename(columns={'con_treat': 'group'})"
   ]
  },
  {
   "cell_type": "code",
   "execution_count": 146,
   "id": "68dec5db-02a3-4ed3-8bf3-0f5dda3697ca",
   "metadata": {},
   "outputs": [
    {
     "data": {
      "text/html": [
       "<div>\n",
       "<style scoped>\n",
       "    .dataframe tbody tr th:only-of-type {\n",
       "        vertical-align: middle;\n",
       "    }\n",
       "\n",
       "    .dataframe tbody tr th {\n",
       "        vertical-align: top;\n",
       "    }\n",
       "\n",
       "    .dataframe thead th {\n",
       "        text-align: right;\n",
       "    }\n",
       "</style>\n",
       "<table border=\"1\" class=\"dataframe\">\n",
       "  <thead>\n",
       "    <tr style=\"text-align: right;\">\n",
       "      <th></th>\n",
       "      <th>id</th>\n",
       "      <th>country</th>\n",
       "    </tr>\n",
       "  </thead>\n",
       "  <tbody>\n",
       "    <tr>\n",
       "      <th>0</th>\n",
       "      <td>834778</td>\n",
       "      <td>UK</td>\n",
       "    </tr>\n",
       "    <tr>\n",
       "      <th>1</th>\n",
       "      <td>928468</td>\n",
       "      <td>US</td>\n",
       "    </tr>\n",
       "    <tr>\n",
       "      <th>2</th>\n",
       "      <td>822059</td>\n",
       "      <td>UK</td>\n",
       "    </tr>\n",
       "    <tr>\n",
       "      <th>3</th>\n",
       "      <td>711597</td>\n",
       "      <td>UK</td>\n",
       "    </tr>\n",
       "    <tr>\n",
       "      <th>4</th>\n",
       "      <td>710616</td>\n",
       "      <td>UK</td>\n",
       "    </tr>\n",
       "  </tbody>\n",
       "</table>\n",
       "</div>"
      ],
      "text/plain": [
       "       id country\n",
       "0  834778      UK\n",
       "1  928468      US\n",
       "2  822059      UK\n",
       "3  711597      UK\n",
       "4  710616      UK"
      ]
     },
     "execution_count": 146,
     "metadata": {},
     "output_type": "execute_result"
    }
   ],
   "source": [
    "df_countries.head()"
   ]
  },
  {
   "cell_type": "code",
   "execution_count": 147,
   "id": "581a7c68-2a60-4695-9155-ac2d8df2c345",
   "metadata": {},
   "outputs": [
    {
     "data": {
      "text/html": [
       "<div>\n",
       "<style scoped>\n",
       "    .dataframe tbody tr th:only-of-type {\n",
       "        vertical-align: middle;\n",
       "    }\n",
       "\n",
       "    .dataframe tbody tr th {\n",
       "        vertical-align: top;\n",
       "    }\n",
       "\n",
       "    .dataframe thead th {\n",
       "        text-align: right;\n",
       "    }\n",
       "</style>\n",
       "<table border=\"1\" class=\"dataframe\">\n",
       "  <thead>\n",
       "    <tr style=\"text-align: right;\">\n",
       "      <th></th>\n",
       "      <th>id</th>\n",
       "      <th>time</th>\n",
       "      <th>group</th>\n",
       "      <th>page</th>\n",
       "      <th>converted</th>\n",
       "      <th>country</th>\n",
       "    </tr>\n",
       "  </thead>\n",
       "  <tbody>\n",
       "    <tr>\n",
       "      <th>0</th>\n",
       "      <td>851104</td>\n",
       "      <td>11:48.6</td>\n",
       "      <td>control</td>\n",
       "      <td>old_page</td>\n",
       "      <td>0</td>\n",
       "      <td>US</td>\n",
       "    </tr>\n",
       "    <tr>\n",
       "      <th>1</th>\n",
       "      <td>804228</td>\n",
       "      <td>01:45.2</td>\n",
       "      <td>control</td>\n",
       "      <td>old_page</td>\n",
       "      <td>0</td>\n",
       "      <td>US</td>\n",
       "    </tr>\n",
       "    <tr>\n",
       "      <th>2</th>\n",
       "      <td>661590</td>\n",
       "      <td>55:06.2</td>\n",
       "      <td>treatment</td>\n",
       "      <td>new_page</td>\n",
       "      <td>0</td>\n",
       "      <td>US</td>\n",
       "    </tr>\n",
       "    <tr>\n",
       "      <th>3</th>\n",
       "      <td>853541</td>\n",
       "      <td>28:03.1</td>\n",
       "      <td>treatment</td>\n",
       "      <td>new_page</td>\n",
       "      <td>0</td>\n",
       "      <td>US</td>\n",
       "    </tr>\n",
       "    <tr>\n",
       "      <th>4</th>\n",
       "      <td>864975</td>\n",
       "      <td>52:26.2</td>\n",
       "      <td>control</td>\n",
       "      <td>old_page</td>\n",
       "      <td>1</td>\n",
       "      <td>US</td>\n",
       "    </tr>\n",
       "  </tbody>\n",
       "</table>\n",
       "</div>"
      ],
      "text/plain": [
       "       id     time      group      page  converted country\n",
       "0  851104  11:48.6    control  old_page          0      US\n",
       "1  804228  01:45.2    control  old_page          0      US\n",
       "2  661590  55:06.2  treatment  new_page          0      US\n",
       "3  853541  28:03.1  treatment  new_page          0      US\n",
       "4  864975  52:26.2    control  old_page          1      US"
      ]
     },
     "execution_count": 147,
     "metadata": {},
     "output_type": "execute_result"
    }
   ],
   "source": [
    "# Создадим единый датафрейм с детализацией по странам\n",
    "df = df.merge(df_countries, how='left', left_on='id', right_on='id')\n",
    "df.head()"
   ]
  },
  {
   "cell_type": "code",
   "execution_count": 148,
   "id": "c9295ee0-864c-4e9a-9349-ad9f28812eae",
   "metadata": {},
   "outputs": [
    {
     "data": {
      "text/plain": [
       "(294478, 6)"
      ]
     },
     "execution_count": 148,
     "metadata": {},
     "output_type": "execute_result"
    }
   ],
   "source": [
    "df.shape"
   ]
  },
  {
   "cell_type": "code",
   "execution_count": 149,
   "id": "78813895-ca30-4793-a4b5-2d14a44a5d2d",
   "metadata": {},
   "outputs": [
    {
     "name": "stdout",
     "output_type": "stream",
     "text": [
      "<class 'pandas.core.frame.DataFrame'>\n",
      "Int64Index: 294478 entries, 0 to 294477\n",
      "Data columns (total 6 columns):\n",
      " #   Column     Non-Null Count   Dtype \n",
      "---  ------     --------------   ----- \n",
      " 0   id         294478 non-null  int64 \n",
      " 1   time       294478 non-null  object\n",
      " 2   group      294478 non-null  object\n",
      " 3   page       294478 non-null  object\n",
      " 4   converted  294478 non-null  int64 \n",
      " 5   country    294478 non-null  object\n",
      "dtypes: int64(2), object(4)\n",
      "memory usage: 15.7+ MB\n"
     ]
    }
   ],
   "source": [
    "df.info()"
   ]
  },
  {
   "cell_type": "code",
   "execution_count": 150,
   "id": "388d2813-c6f9-439b-9c0d-ee5de951102f",
   "metadata": {},
   "outputs": [
    {
     "data": {
      "text/plain": [
       "id           0\n",
       "time         0\n",
       "group        0\n",
       "page         0\n",
       "converted    0\n",
       "country      0\n",
       "dtype: int64"
      ]
     },
     "execution_count": 150,
     "metadata": {},
     "output_type": "execute_result"
    }
   ],
   "source": [
    "# Проверим полноту данных\n",
    "df.isnull().sum()"
   ]
  },
  {
   "cell_type": "raw",
   "id": "abf7f053-28e0-403c-b04c-993d4e8ce219",
   "metadata": {},
   "source": [
    "Данные полные, без пропусков"
   ]
  },
  {
   "cell_type": "markdown",
   "id": "b0a86866-c450-4c8e-8b40-9304aa21beaa",
   "metadata": {},
   "source": [
    "#### Какие значения есть в данных"
   ]
  },
  {
   "cell_type": "code",
   "execution_count": 151,
   "id": "4ef6ca43-9ac6-49f5-a24b-4d340a4504da",
   "metadata": {},
   "outputs": [
    {
     "data": {
      "text/plain": [
       "array(['control', 'treatment'], dtype=object)"
      ]
     },
     "execution_count": 151,
     "metadata": {},
     "output_type": "execute_result"
    }
   ],
   "source": [
    "# Типы групп\n",
    "df.group.unique()"
   ]
  },
  {
   "cell_type": "code",
   "execution_count": 152,
   "id": "23cd4819-dc97-420f-ad3c-3ad000912d42",
   "metadata": {},
   "outputs": [
    {
     "data": {
      "text/plain": [
       "array(['old_page', 'new_page'], dtype=object)"
      ]
     },
     "execution_count": 152,
     "metadata": {},
     "output_type": "execute_result"
    }
   ],
   "source": [
    "# Типы страниц\n",
    "df.page.unique()"
   ]
  },
  {
   "cell_type": "code",
   "execution_count": 153,
   "id": "839cf062-b2a6-4a62-bef4-88565096e37f",
   "metadata": {},
   "outputs": [
    {
     "data": {
      "text/plain": [
       "array([0, 1], dtype=int64)"
      ]
     },
     "execution_count": 153,
     "metadata": {},
     "output_type": "execute_result"
    }
   ],
   "source": [
    "# варианты converted\n",
    "df.converted.unique()"
   ]
  },
  {
   "cell_type": "code",
   "execution_count": 154,
   "id": "649b5b14-249f-4d6e-a01e-641c8492cc0c",
   "metadata": {},
   "outputs": [
    {
     "data": {
      "text/plain": [
       "array(['US', 'CA', 'UK'], dtype=object)"
      ]
     },
     "execution_count": 154,
     "metadata": {},
     "output_type": "execute_result"
    }
   ],
   "source": [
    "# по каким странам собраны наблюдения\n",
    "df.country.unique()"
   ]
  },
  {
   "cell_type": "markdown",
   "id": "9f1d2b54-6f25-4eb3-a512-572e9321785a",
   "metadata": {},
   "source": [
    "#### Дубликаты"
   ]
  },
  {
   "cell_type": "code",
   "execution_count": 155,
   "id": "6aaa56cc-8900-4058-940b-273a2523804b",
   "metadata": {},
   "outputs": [
    {
     "data": {
      "text/plain": [
       "True"
      ]
     },
     "execution_count": 155,
     "metadata": {},
     "output_type": "execute_result"
    }
   ],
   "source": [
    "# Проверим, есть ли дубликаты в данных для пользователей\n",
    "df['id'].duplicated().any()"
   ]
  },
  {
   "cell_type": "code",
   "execution_count": 156,
   "id": "80a9c026-f56e-47c7-8f1f-74bd1b24fe27",
   "metadata": {},
   "outputs": [
    {
     "data": {
      "text/html": [
       "<div>\n",
       "<style scoped>\n",
       "    .dataframe tbody tr th:only-of-type {\n",
       "        vertical-align: middle;\n",
       "    }\n",
       "\n",
       "    .dataframe tbody tr th {\n",
       "        vertical-align: top;\n",
       "    }\n",
       "\n",
       "    .dataframe thead th {\n",
       "        text-align: right;\n",
       "    }\n",
       "</style>\n",
       "<table border=\"1\" class=\"dataframe\">\n",
       "  <thead>\n",
       "    <tr style=\"text-align: right;\">\n",
       "      <th></th>\n",
       "      <th>id</th>\n",
       "      <th>time</th>\n",
       "      <th>group</th>\n",
       "      <th>page</th>\n",
       "      <th>converted</th>\n",
       "      <th>country</th>\n",
       "    </tr>\n",
       "  </thead>\n",
       "  <tbody>\n",
       "    <tr>\n",
       "      <th>2656</th>\n",
       "      <td>698120</td>\n",
       "      <td>13:42.6</td>\n",
       "      <td>control</td>\n",
       "      <td>old_page</td>\n",
       "      <td>0</td>\n",
       "      <td>US</td>\n",
       "    </tr>\n",
       "    <tr>\n",
       "      <th>2893</th>\n",
       "      <td>773192</td>\n",
       "      <td>55:59.6</td>\n",
       "      <td>treatment</td>\n",
       "      <td>new_page</td>\n",
       "      <td>0</td>\n",
       "      <td>US</td>\n",
       "    </tr>\n",
       "    <tr>\n",
       "      <th>7500</th>\n",
       "      <td>899953</td>\n",
       "      <td>06:54.1</td>\n",
       "      <td>control</td>\n",
       "      <td>new_page</td>\n",
       "      <td>0</td>\n",
       "      <td>CA</td>\n",
       "    </tr>\n",
       "    <tr>\n",
       "      <th>8036</th>\n",
       "      <td>790934</td>\n",
       "      <td>32:20.3</td>\n",
       "      <td>treatment</td>\n",
       "      <td>new_page</td>\n",
       "      <td>0</td>\n",
       "      <td>US</td>\n",
       "    </tr>\n",
       "    <tr>\n",
       "      <th>10218</th>\n",
       "      <td>633793</td>\n",
       "      <td>16:00.7</td>\n",
       "      <td>treatment</td>\n",
       "      <td>old_page</td>\n",
       "      <td>0</td>\n",
       "      <td>US</td>\n",
       "    </tr>\n",
       "    <tr>\n",
       "      <th>...</th>\n",
       "      <td>...</td>\n",
       "      <td>...</td>\n",
       "      <td>...</td>\n",
       "      <td>...</td>\n",
       "      <td>...</td>\n",
       "      <td>...</td>\n",
       "    </tr>\n",
       "    <tr>\n",
       "      <th>294308</th>\n",
       "      <td>905197</td>\n",
       "      <td>56:47.5</td>\n",
       "      <td>treatment</td>\n",
       "      <td>new_page</td>\n",
       "      <td>0</td>\n",
       "      <td>UK</td>\n",
       "    </tr>\n",
       "    <tr>\n",
       "      <th>294309</th>\n",
       "      <td>787083</td>\n",
       "      <td>15:21.0</td>\n",
       "      <td>control</td>\n",
       "      <td>old_page</td>\n",
       "      <td>0</td>\n",
       "      <td>US</td>\n",
       "    </tr>\n",
       "    <tr>\n",
       "      <th>294328</th>\n",
       "      <td>641570</td>\n",
       "      <td>59:27.7</td>\n",
       "      <td>control</td>\n",
       "      <td>old_page</td>\n",
       "      <td>0</td>\n",
       "      <td>UK</td>\n",
       "    </tr>\n",
       "    <tr>\n",
       "      <th>294331</th>\n",
       "      <td>689637</td>\n",
       "      <td>34:28.3</td>\n",
       "      <td>control</td>\n",
       "      <td>new_page</td>\n",
       "      <td>0</td>\n",
       "      <td>CA</td>\n",
       "    </tr>\n",
       "    <tr>\n",
       "      <th>294355</th>\n",
       "      <td>744456</td>\n",
       "      <td>32:07.1</td>\n",
       "      <td>treatment</td>\n",
       "      <td>new_page</td>\n",
       "      <td>0</td>\n",
       "      <td>US</td>\n",
       "    </tr>\n",
       "  </tbody>\n",
       "</table>\n",
       "<p>3894 rows × 6 columns</p>\n",
       "</div>"
      ],
      "text/plain": [
       "            id     time      group      page  converted country\n",
       "2656    698120  13:42.6    control  old_page          0      US\n",
       "2893    773192  55:59.6  treatment  new_page          0      US\n",
       "7500    899953  06:54.1    control  new_page          0      CA\n",
       "8036    790934  32:20.3  treatment  new_page          0      US\n",
       "10218   633793  16:00.7  treatment  old_page          0      US\n",
       "...        ...      ...        ...       ...        ...     ...\n",
       "294308  905197  56:47.5  treatment  new_page          0      UK\n",
       "294309  787083  15:21.0    control  old_page          0      US\n",
       "294328  641570  59:27.7    control  old_page          0      UK\n",
       "294331  689637  34:28.3    control  new_page          0      CA\n",
       "294355  744456  32:07.1  treatment  new_page          0      US\n",
       "\n",
       "[3894 rows x 6 columns]"
      ]
     },
     "execution_count": 156,
     "metadata": {},
     "output_type": "execute_result"
    }
   ],
   "source": [
    "# Посмотрим, какие дубликаты встречаются\n",
    "df[df.duplicated('id') == True]"
   ]
  },
  {
   "cell_type": "code",
   "execution_count": 157,
   "id": "7833e2f9-7274-48cd-b324-75ee22b7ecea",
   "metadata": {},
   "outputs": [
    {
     "data": {
      "text/plain": [
       "id           3894\n",
       "time         3894\n",
       "group        3894\n",
       "page         3894\n",
       "converted    3894\n",
       "country      3894\n",
       "dtype: int64"
      ]
     },
     "execution_count": 157,
     "metadata": {},
     "output_type": "execute_result"
    }
   ],
   "source": [
    "# Проверим сколько дубликатов в данных\n",
    "df[df.duplicated('id') == True].count()"
   ]
  },
  {
   "cell_type": "code",
   "execution_count": 158,
   "id": "487b9be6-b3ad-4ee2-837f-4ea1e33a5625",
   "metadata": {},
   "outputs": [
    {
     "data": {
      "text/html": [
       "<div>\n",
       "<style scoped>\n",
       "    .dataframe tbody tr th:only-of-type {\n",
       "        vertical-align: middle;\n",
       "    }\n",
       "\n",
       "    .dataframe tbody tr th {\n",
       "        vertical-align: top;\n",
       "    }\n",
       "\n",
       "    .dataframe thead th {\n",
       "        text-align: right;\n",
       "    }\n",
       "</style>\n",
       "<table border=\"1\" class=\"dataframe\">\n",
       "  <thead>\n",
       "    <tr style=\"text-align: right;\">\n",
       "      <th></th>\n",
       "      <th>id</th>\n",
       "      <th>time</th>\n",
       "      <th>group</th>\n",
       "      <th>page</th>\n",
       "      <th>converted</th>\n",
       "      <th>country</th>\n",
       "    </tr>\n",
       "  </thead>\n",
       "  <tbody>\n",
       "    <tr>\n",
       "      <th>988</th>\n",
       "      <td>698120</td>\n",
       "      <td>09:37.5</td>\n",
       "      <td>control</td>\n",
       "      <td>new_page</td>\n",
       "      <td>0</td>\n",
       "      <td>US</td>\n",
       "    </tr>\n",
       "    <tr>\n",
       "      <th>2656</th>\n",
       "      <td>698120</td>\n",
       "      <td>13:42.6</td>\n",
       "      <td>control</td>\n",
       "      <td>old_page</td>\n",
       "      <td>0</td>\n",
       "      <td>US</td>\n",
       "    </tr>\n",
       "  </tbody>\n",
       "</table>\n",
       "</div>"
      ],
      "text/plain": [
       "          id     time    group      page  converted country\n",
       "988   698120  09:37.5  control  new_page          0      US\n",
       "2656  698120  13:42.6  control  old_page          0      US"
      ]
     },
     "execution_count": 158,
     "metadata": {},
     "output_type": "execute_result"
    }
   ],
   "source": [
    "df[df['id'] == 698120]"
   ]
  },
  {
   "cell_type": "raw",
   "id": "391ec6d2-2594-4ee8-87d6-035528ae45de",
   "metadata": {},
   "source": [
    "Есть пользователи, кому показали обе версии страницы, их не стоит учитывать в эксперименте."
   ]
  },
  {
   "cell_type": "code",
   "execution_count": 159,
   "id": "f744f454-6d46-491f-9d57-7ac88d74abb7",
   "metadata": {},
   "outputs": [
    {
     "data": {
      "text/html": [
       "<div>\n",
       "<style scoped>\n",
       "    .dataframe tbody tr th:only-of-type {\n",
       "        vertical-align: middle;\n",
       "    }\n",
       "\n",
       "    .dataframe tbody tr th {\n",
       "        vertical-align: top;\n",
       "    }\n",
       "\n",
       "    .dataframe thead th {\n",
       "        text-align: right;\n",
       "    }\n",
       "</style>\n",
       "<table border=\"1\" class=\"dataframe\">\n",
       "  <thead>\n",
       "    <tr style=\"text-align: right;\">\n",
       "      <th></th>\n",
       "      <th>id</th>\n",
       "      <th>time</th>\n",
       "      <th>group</th>\n",
       "      <th>page</th>\n",
       "      <th>converted</th>\n",
       "      <th>country</th>\n",
       "    </tr>\n",
       "  </thead>\n",
       "  <tbody>\n",
       "    <tr>\n",
       "      <th>1899</th>\n",
       "      <td>773192</td>\n",
       "      <td>37:58.8</td>\n",
       "      <td>treatment</td>\n",
       "      <td>new_page</td>\n",
       "      <td>0</td>\n",
       "      <td>US</td>\n",
       "    </tr>\n",
       "    <tr>\n",
       "      <th>2893</th>\n",
       "      <td>773192</td>\n",
       "      <td>55:59.6</td>\n",
       "      <td>treatment</td>\n",
       "      <td>new_page</td>\n",
       "      <td>0</td>\n",
       "      <td>US</td>\n",
       "    </tr>\n",
       "  </tbody>\n",
       "</table>\n",
       "</div>"
      ],
      "text/plain": [
       "          id     time      group      page  converted country\n",
       "1899  773192  37:58.8  treatment  new_page          0      US\n",
       "2893  773192  55:59.6  treatment  new_page          0      US"
      ]
     },
     "execution_count": 159,
     "metadata": {},
     "output_type": "execute_result"
    }
   ],
   "source": [
    "df[df['id'] == 773192]"
   ]
  },
  {
   "cell_type": "raw",
   "id": "0902488d-3b6f-438c-8c35-6ca4ba0bd0dd",
   "metadata": {},
   "source": [
    "Есть пользователи, кому дважды показывали одну и ту же страницу, для них можно оставить время последнего захода на страницу, нам не важно, сколько раз пользватель заходил на страницу, важно, сделал ли он покупку или нет."
   ]
  },
  {
   "cell_type": "code",
   "execution_count": 160,
   "id": "f5500a7d-554e-4bb8-9a49-d9072b461af5",
   "metadata": {},
   "outputs": [
    {
     "data": {
      "text/html": [
       "<div>\n",
       "<style scoped>\n",
       "    .dataframe tbody tr th:only-of-type {\n",
       "        vertical-align: middle;\n",
       "    }\n",
       "\n",
       "    .dataframe tbody tr th {\n",
       "        vertical-align: top;\n",
       "    }\n",
       "\n",
       "    .dataframe thead th {\n",
       "        text-align: right;\n",
       "    }\n",
       "</style>\n",
       "<table border=\"1\" class=\"dataframe\">\n",
       "  <thead>\n",
       "    <tr style=\"text-align: right;\">\n",
       "      <th></th>\n",
       "      <th>id</th>\n",
       "      <th>time</th>\n",
       "      <th>group</th>\n",
       "      <th>page</th>\n",
       "      <th>converted</th>\n",
       "      <th>country</th>\n",
       "    </tr>\n",
       "  </thead>\n",
       "  <tbody>\n",
       "    <tr>\n",
       "      <th>3489</th>\n",
       "      <td>899953</td>\n",
       "      <td>36:02.1</td>\n",
       "      <td>treatment</td>\n",
       "      <td>new_page</td>\n",
       "      <td>0</td>\n",
       "      <td>CA</td>\n",
       "    </tr>\n",
       "    <tr>\n",
       "      <th>7500</th>\n",
       "      <td>899953</td>\n",
       "      <td>06:54.1</td>\n",
       "      <td>control</td>\n",
       "      <td>new_page</td>\n",
       "      <td>0</td>\n",
       "      <td>CA</td>\n",
       "    </tr>\n",
       "  </tbody>\n",
       "</table>\n",
       "</div>"
      ],
      "text/plain": [
       "          id     time      group      page  converted country\n",
       "3489  899953  36:02.1  treatment  new_page          0      CA\n",
       "7500  899953  06:54.1    control  new_page          0      CA"
      ]
     },
     "execution_count": 160,
     "metadata": {},
     "output_type": "execute_result"
    }
   ],
   "source": [
    "df[df['id'] == 899953]"
   ]
  },
  {
   "cell_type": "raw",
   "id": "aef5f0d5-2078-480a-8f8b-25f14f19bcec",
   "metadata": {},
   "source": [
    "Есть пользователи, которые были переклассифицированы из тестовой группы в контрольую, но им была показана новая версия страницы. "
   ]
  },
  {
   "cell_type": "code",
   "execution_count": 161,
   "id": "fc1f5ae9-129b-42a6-ac38-6f1c48a719db",
   "metadata": {},
   "outputs": [],
   "source": [
    "# Оставим тех пользователей, кто в группе treatment и кому показали new_page, и тех, кто в группе control и кому показали old_page\n",
    "df = df[((df['group']=='treatment') & (df['page']=='new_page')) | ((df['group']=='control') & (df['page']=='old_page'))]"
   ]
  },
  {
   "cell_type": "code",
   "execution_count": 162,
   "id": "3900c592-d394-459c-9091-026ad1c01c15",
   "metadata": {},
   "outputs": [
    {
     "data": {
      "text/html": [
       "<div>\n",
       "<style scoped>\n",
       "    .dataframe tbody tr th:only-of-type {\n",
       "        vertical-align: middle;\n",
       "    }\n",
       "\n",
       "    .dataframe tbody tr th {\n",
       "        vertical-align: top;\n",
       "    }\n",
       "\n",
       "    .dataframe thead th {\n",
       "        text-align: right;\n",
       "    }\n",
       "</style>\n",
       "<table border=\"1\" class=\"dataframe\">\n",
       "  <thead>\n",
       "    <tr style=\"text-align: right;\">\n",
       "      <th></th>\n",
       "      <th>id</th>\n",
       "      <th>time</th>\n",
       "      <th>group</th>\n",
       "      <th>page</th>\n",
       "      <th>converted</th>\n",
       "      <th>country</th>\n",
       "    </tr>\n",
       "  </thead>\n",
       "  <tbody>\n",
       "    <tr>\n",
       "      <th>2893</th>\n",
       "      <td>773192</td>\n",
       "      <td>55:59.6</td>\n",
       "      <td>treatment</td>\n",
       "      <td>new_page</td>\n",
       "      <td>0</td>\n",
       "      <td>US</td>\n",
       "    </tr>\n",
       "  </tbody>\n",
       "</table>\n",
       "</div>"
      ],
      "text/plain": [
       "          id     time      group      page  converted country\n",
       "2893  773192  55:59.6  treatment  new_page          0      US"
      ]
     },
     "execution_count": 162,
     "metadata": {},
     "output_type": "execute_result"
    }
   ],
   "source": [
    "# В дубликатах должны были остаться только те варианты, где одному пользователю была показана одна и та же страница несколько раз\n",
    "df[df.duplicated('id') == True]"
   ]
  },
  {
   "cell_type": "code",
   "execution_count": 163,
   "id": "dd9f5a47-6e33-449c-971c-b805197aa241",
   "metadata": {},
   "outputs": [
    {
     "data": {
      "text/html": [
       "<div>\n",
       "<style scoped>\n",
       "    .dataframe tbody tr th:only-of-type {\n",
       "        vertical-align: middle;\n",
       "    }\n",
       "\n",
       "    .dataframe tbody tr th {\n",
       "        vertical-align: top;\n",
       "    }\n",
       "\n",
       "    .dataframe thead th {\n",
       "        text-align: right;\n",
       "    }\n",
       "</style>\n",
       "<table border=\"1\" class=\"dataframe\">\n",
       "  <thead>\n",
       "    <tr style=\"text-align: right;\">\n",
       "      <th></th>\n",
       "      <th>id</th>\n",
       "      <th>time</th>\n",
       "      <th>group</th>\n",
       "      <th>page</th>\n",
       "      <th>converted</th>\n",
       "      <th>country</th>\n",
       "    </tr>\n",
       "  </thead>\n",
       "  <tbody>\n",
       "    <tr>\n",
       "      <th>1899</th>\n",
       "      <td>773192</td>\n",
       "      <td>37:58.8</td>\n",
       "      <td>treatment</td>\n",
       "      <td>new_page</td>\n",
       "      <td>0</td>\n",
       "      <td>US</td>\n",
       "    </tr>\n",
       "    <tr>\n",
       "      <th>2893</th>\n",
       "      <td>773192</td>\n",
       "      <td>55:59.6</td>\n",
       "      <td>treatment</td>\n",
       "      <td>new_page</td>\n",
       "      <td>0</td>\n",
       "      <td>US</td>\n",
       "    </tr>\n",
       "  </tbody>\n",
       "</table>\n",
       "</div>"
      ],
      "text/plain": [
       "          id     time      group      page  converted country\n",
       "1899  773192  37:58.8  treatment  new_page          0      US\n",
       "2893  773192  55:59.6  treatment  new_page          0      US"
      ]
     },
     "execution_count": 163,
     "metadata": {},
     "output_type": "execute_result"
    }
   ],
   "source": [
    "df[df['id'] == 773192]"
   ]
  },
  {
   "cell_type": "code",
   "execution_count": 164,
   "id": "6d7fbcea-a606-4e6c-8a88-cca3266d465b",
   "metadata": {},
   "outputs": [],
   "source": [
    "# удалим дубликаты, оставив последний из просмотров\n",
    "df = df.drop_duplicates(subset='id', keep='last')"
   ]
  },
  {
   "cell_type": "code",
   "execution_count": 165,
   "id": "241dc72e-bac5-404f-93de-df5ecb4b2032",
   "metadata": {},
   "outputs": [
    {
     "data": {
      "text/html": [
       "<div>\n",
       "<style scoped>\n",
       "    .dataframe tbody tr th:only-of-type {\n",
       "        vertical-align: middle;\n",
       "    }\n",
       "\n",
       "    .dataframe tbody tr th {\n",
       "        vertical-align: top;\n",
       "    }\n",
       "\n",
       "    .dataframe thead th {\n",
       "        text-align: right;\n",
       "    }\n",
       "</style>\n",
       "<table border=\"1\" class=\"dataframe\">\n",
       "  <thead>\n",
       "    <tr style=\"text-align: right;\">\n",
       "      <th></th>\n",
       "      <th>id</th>\n",
       "      <th>time</th>\n",
       "      <th>group</th>\n",
       "      <th>page</th>\n",
       "      <th>converted</th>\n",
       "      <th>country</th>\n",
       "    </tr>\n",
       "  </thead>\n",
       "  <tbody>\n",
       "  </tbody>\n",
       "</table>\n",
       "</div>"
      ],
      "text/plain": [
       "Empty DataFrame\n",
       "Columns: [id, time, group, page, converted, country]\n",
       "Index: []"
      ]
     },
     "execution_count": 165,
     "metadata": {},
     "output_type": "execute_result"
    }
   ],
   "source": [
    "# проверка, остались ли дубликаты\n",
    "df[df.duplicated('id') == True]"
   ]
  },
  {
   "cell_type": "markdown",
   "id": "c477bc85-1817-41a3-aac0-195e840f97d1",
   "metadata": {},
   "source": [
    "## 3. Исследовательский анализ данных"
   ]
  },
  {
   "cell_type": "code",
   "execution_count": 166,
   "id": "46b1100f-4f4f-4198-aa27-68ce2bec5a84",
   "metadata": {},
   "outputs": [
    {
     "data": {
      "text/html": [
       "<div>\n",
       "<style scoped>\n",
       "    .dataframe tbody tr th:only-of-type {\n",
       "        vertical-align: middle;\n",
       "    }\n",
       "\n",
       "    .dataframe tbody tr th {\n",
       "        vertical-align: top;\n",
       "    }\n",
       "\n",
       "    .dataframe thead th {\n",
       "        text-align: right;\n",
       "    }\n",
       "</style>\n",
       "<table border=\"1\" class=\"dataframe\">\n",
       "  <thead>\n",
       "    <tr style=\"text-align: right;\">\n",
       "      <th></th>\n",
       "      <th>group</th>\n",
       "      <th>converted</th>\n",
       "      <th>quantity</th>\n",
       "    </tr>\n",
       "  </thead>\n",
       "  <tbody>\n",
       "    <tr>\n",
       "      <th>0</th>\n",
       "      <td>control</td>\n",
       "      <td>0</td>\n",
       "      <td>127785</td>\n",
       "    </tr>\n",
       "    <tr>\n",
       "      <th>1</th>\n",
       "      <td>control</td>\n",
       "      <td>1</td>\n",
       "      <td>17489</td>\n",
       "    </tr>\n",
       "    <tr>\n",
       "      <th>2</th>\n",
       "      <td>treatment</td>\n",
       "      <td>0</td>\n",
       "      <td>128046</td>\n",
       "    </tr>\n",
       "    <tr>\n",
       "      <th>3</th>\n",
       "      <td>treatment</td>\n",
       "      <td>1</td>\n",
       "      <td>17264</td>\n",
       "    </tr>\n",
       "  </tbody>\n",
       "</table>\n",
       "</div>"
      ],
      "text/plain": [
       "       group  converted  quantity\n",
       "0    control          0    127785\n",
       "1    control          1     17489\n",
       "2  treatment          0    128046\n",
       "3  treatment          1     17264"
      ]
     },
     "execution_count": 166,
     "metadata": {},
     "output_type": "execute_result"
    }
   ],
   "source": [
    "# посмотрим сколько наблюдений в каждой группе сделало платное действие\n",
    "df_by_group_converted = df.groupby(['group', 'converted']).agg({'id': 'count'}).rename(columns={'id': 'quantity'}).reset_index()\n",
    "df_by_group_converted"
   ]
  },
  {
   "cell_type": "code",
   "execution_count": 167,
   "id": "99a5c899-483c-47fc-b523-b0f3bb53077d",
   "metadata": {},
   "outputs": [],
   "source": [
    "total_num = df_by_group_converted.quantity.sum()\n",
    "control_num = df_by_group_converted.iloc[0, 2] + df_by_group_converted.iloc[1, 2]\n",
    "treatment_num = df_by_group_converted.iloc[2, 2] + df_by_group_converted.iloc[3, 2]\n",
    "converted_control_percent = df_by_group_converted.iloc[1, 2] / control_num * 100 \n",
    "converted_treatment_percent = df_by_group_converted.iloc[3, 2] / treatment_num * 100"
   ]
  },
  {
   "cell_type": "code",
   "execution_count": 168,
   "id": "d85d6eb0-bab3-4a96-8aa6-0370ecb53c07",
   "metadata": {},
   "outputs": [
    {
     "name": "stdout",
     "output_type": "stream",
     "text": [
      "В выборке всего 290584 наблюдений, из которых 145274 относятся к котрольной группе и 145310 к тестовой, что составляет 49.99% и 50.01% соответственно.\n",
      "В контрольной выборке 12.0386% пользователей совершили платное действие, в тестовой - 11.8808%.\n"
     ]
    }
   ],
   "source": [
    "print(f'В выборке всего {total_num} наблюдений, из которых {control_num} относятся к котрольной группе и {treatment_num} к тестовой, \\\n",
    "что составляет {(control_num/total_num * 100).round(2)}% и {(treatment_num/total_num * 100).round(2)}% соответственно.') \n",
    "print(f'В контрольной выборке {converted_control_percent.round(4)}% пользователей совершили платное действие, в тестовой \\\n",
    "- {converted_treatment_percent.round(4)}%.')"
   ]
  },
  {
   "cell_type": "code",
   "execution_count": 173,
   "id": "60b8fa0b-7b14-4a7a-9c53-d882d1103c44",
   "metadata": {},
   "outputs": [
    {
     "data": {
      "image/png": "[encoded data removed]",
      "text/plain": [
       "<Figure size 640x480 with 1 Axes>"
      ]
     },
     "metadata": {},
     "output_type": "display_data"
    }
   ],
   "source": [
    "# круговая диаграмма для визуализации распределения наблюдений по группам\n",
    "colors = sns.color_palette('pastel')[0:2]\n",
    "plt.pie([control_num/total_num, treatment_num/total_num], labels = ['control', 'treatment'], colors = colors, autopct='%.2f%%')\n",
    "plt.show()"
   ]
  },
  {
   "cell_type": "code",
   "execution_count": 175,
   "id": "d98111e4-18e4-47d6-a1d4-0aba4ef72944",
   "metadata": {},
   "outputs": [
    {
     "data": {
      "text/html": [
       "<div>\n",
       "<style scoped>\n",
       "    .dataframe tbody tr th:only-of-type {\n",
       "        vertical-align: middle;\n",
       "    }\n",
       "\n",
       "    .dataframe tbody tr th {\n",
       "        vertical-align: top;\n",
       "    }\n",
       "\n",
       "    .dataframe thead th {\n",
       "        text-align: right;\n",
       "    }\n",
       "</style>\n",
       "<table border=\"1\" class=\"dataframe\">\n",
       "  <thead>\n",
       "    <tr style=\"text-align: right;\">\n",
       "      <th></th>\n",
       "      <th>country</th>\n",
       "      <th>quantity</th>\n",
       "    </tr>\n",
       "  </thead>\n",
       "  <tbody>\n",
       "    <tr>\n",
       "      <th>0</th>\n",
       "      <td>CA</td>\n",
       "      <td>14499</td>\n",
       "    </tr>\n",
       "    <tr>\n",
       "      <th>1</th>\n",
       "      <td>UK</td>\n",
       "      <td>72466</td>\n",
       "    </tr>\n",
       "    <tr>\n",
       "      <th>2</th>\n",
       "      <td>US</td>\n",
       "      <td>203619</td>\n",
       "    </tr>\n",
       "  </tbody>\n",
       "</table>\n",
       "</div>"
      ],
      "text/plain": [
       "  country  quantity\n",
       "0      CA     14499\n",
       "1      UK     72466\n",
       "2      US    203619"
      ]
     },
     "execution_count": 175,
     "metadata": {},
     "output_type": "execute_result"
    }
   ],
   "source": [
    "df_by_country = df.groupby(['country']).agg({'id': 'count'}).rename(columns={'id': 'quantity'}).reset_index()\n",
    "df_by_country"
   ]
  },
  {
   "cell_type": "code",
   "execution_count": 183,
   "id": "7d9345c1-a126-4703-a83e-e1ea5a7798c5",
   "metadata": {},
   "outputs": [
    {
     "data": {
      "image/png": "[encoded data removed]",
      "text/plain": [
       "<Figure size 640x480 with 1 Axes>"
      ]
     },
     "metadata": {},
     "output_type": "display_data"
    }
   ],
   "source": [
    "colors = sns.color_palette('pastel')[2:3]\n",
    "plt.pie([df_by_country.iloc[0,1]/total_num, df_by_country.iloc[1,1]/total_num, df_by_country.iloc[2,1]/total_num], labels = ['CA', 'UK', 'US'], colors = colors, autopct='%.2f%%')\n",
    "plt.show()"
   ]
  },
  {
   "cell_type": "raw",
   "id": "0ad5336c-bea5-40bd-972c-5c4f4d361c51",
   "metadata": {},
   "source": [
    "Больше всего наблюдений для США - 70%, для Великобритании - 25%, для Канады - 5%"
   ]
  },
  {
   "cell_type": "markdown",
   "id": "d75f4a40-6d5a-45f4-9b60-3e74ef36bbac",
   "metadata": {},
   "source": [
    "#### Конверсия по странам в разных группах"
   ]
  },
  {
   "cell_type": "code",
   "execution_count": 191,
   "id": "8f9b0205-6141-454a-8f78-78200001cc66",
   "metadata": {},
   "outputs": [
    {
     "data": {
      "text/html": [
       "<div>\n",
       "<style scoped>\n",
       "    .dataframe tbody tr th:only-of-type {\n",
       "        vertical-align: middle;\n",
       "    }\n",
       "\n",
       "    .dataframe tbody tr th {\n",
       "        vertical-align: top;\n",
       "    }\n",
       "\n",
       "    .dataframe thead th {\n",
       "        text-align: right;\n",
       "    }\n",
       "</style>\n",
       "<table border=\"1\" class=\"dataframe\">\n",
       "  <thead>\n",
       "    <tr style=\"text-align: right;\">\n",
       "      <th></th>\n",
       "      <th>country</th>\n",
       "      <th>group</th>\n",
       "      <th>converted</th>\n",
       "      <th>quantity</th>\n",
       "      <th>quantity_lag</th>\n",
       "      <th>conversion</th>\n",
       "    </tr>\n",
       "  </thead>\n",
       "  <tbody>\n",
       "    <tr>\n",
       "      <th>0</th>\n",
       "      <td>CA</td>\n",
       "      <td>control</td>\n",
       "      <td>0</td>\n",
       "      <td>6343</td>\n",
       "      <td>855.0</td>\n",
       "      <td>0.134794</td>\n",
       "    </tr>\n",
       "    <tr>\n",
       "      <th>1</th>\n",
       "      <td>CA</td>\n",
       "      <td>control</td>\n",
       "      <td>1</td>\n",
       "      <td>855</td>\n",
       "      <td>NaN</td>\n",
       "      <td>NaN</td>\n",
       "    </tr>\n",
       "    <tr>\n",
       "      <th>2</th>\n",
       "      <td>CA</td>\n",
       "      <td>treatment</td>\n",
       "      <td>0</td>\n",
       "      <td>6484</td>\n",
       "      <td>817.0</td>\n",
       "      <td>0.126002</td>\n",
       "    </tr>\n",
       "    <tr>\n",
       "      <th>3</th>\n",
       "      <td>CA</td>\n",
       "      <td>treatment</td>\n",
       "      <td>1</td>\n",
       "      <td>817</td>\n",
       "      <td>NaN</td>\n",
       "      <td>NaN</td>\n",
       "    </tr>\n",
       "    <tr>\n",
       "      <th>4</th>\n",
       "      <td>UK</td>\n",
       "      <td>control</td>\n",
       "      <td>0</td>\n",
       "      <td>31996</td>\n",
       "      <td>4364.0</td>\n",
       "      <td>0.136392</td>\n",
       "    </tr>\n",
       "    <tr>\n",
       "      <th>5</th>\n",
       "      <td>UK</td>\n",
       "      <td>control</td>\n",
       "      <td>1</td>\n",
       "      <td>4364</td>\n",
       "      <td>NaN</td>\n",
       "      <td>NaN</td>\n",
       "    </tr>\n",
       "    <tr>\n",
       "      <th>6</th>\n",
       "      <td>UK</td>\n",
       "      <td>treatment</td>\n",
       "      <td>0</td>\n",
       "      <td>31731</td>\n",
       "      <td>4375.0</td>\n",
       "      <td>0.137878</td>\n",
       "    </tr>\n",
       "    <tr>\n",
       "      <th>7</th>\n",
       "      <td>UK</td>\n",
       "      <td>treatment</td>\n",
       "      <td>1</td>\n",
       "      <td>4375</td>\n",
       "      <td>NaN</td>\n",
       "      <td>NaN</td>\n",
       "    </tr>\n",
       "    <tr>\n",
       "      <th>8</th>\n",
       "      <td>US</td>\n",
       "      <td>control</td>\n",
       "      <td>0</td>\n",
       "      <td>89446</td>\n",
       "      <td>12270.0</td>\n",
       "      <td>0.137178</td>\n",
       "    </tr>\n",
       "    <tr>\n",
       "      <th>9</th>\n",
       "      <td>US</td>\n",
       "      <td>control</td>\n",
       "      <td>1</td>\n",
       "      <td>12270</td>\n",
       "      <td>NaN</td>\n",
       "      <td>NaN</td>\n",
       "    </tr>\n",
       "    <tr>\n",
       "      <th>10</th>\n",
       "      <td>US</td>\n",
       "      <td>treatment</td>\n",
       "      <td>0</td>\n",
       "      <td>89831</td>\n",
       "      <td>12072.0</td>\n",
       "      <td>0.134386</td>\n",
       "    </tr>\n",
       "    <tr>\n",
       "      <th>11</th>\n",
       "      <td>US</td>\n",
       "      <td>treatment</td>\n",
       "      <td>1</td>\n",
       "      <td>12072</td>\n",
       "      <td>NaN</td>\n",
       "      <td>NaN</td>\n",
       "    </tr>\n",
       "  </tbody>\n",
       "</table>\n",
       "</div>"
      ],
      "text/plain": [
       "   country      group  converted  quantity  quantity_lag  conversion\n",
       "0       CA    control          0      6343         855.0    0.134794\n",
       "1       CA    control          1       855           NaN         NaN\n",
       "2       CA  treatment          0      6484         817.0    0.126002\n",
       "3       CA  treatment          1       817           NaN         NaN\n",
       "4       UK    control          0     31996        4364.0    0.136392\n",
       "5       UK    control          1      4364           NaN         NaN\n",
       "6       UK  treatment          0     31731        4375.0    0.137878\n",
       "7       UK  treatment          1      4375           NaN         NaN\n",
       "8       US    control          0     89446       12270.0    0.137178\n",
       "9       US    control          1     12270           NaN         NaN\n",
       "10      US  treatment          0     89831       12072.0    0.134386\n",
       "11      US  treatment          1     12072           NaN         NaN"
      ]
     },
     "execution_count": 191,
     "metadata": {},
     "output_type": "execute_result"
    }
   ],
   "source": [
    "df_by_country_group = df.groupby(['country', 'group', 'converted']).agg({'id': 'count'}).rename(columns={'id': 'quantity'}).reset_index()\n",
    "df_by_country_group['quantity_lag'] = df_by_country_group.groupby(['country', 'group'])['quantity'].shift(-1)\n",
    "df_by_country_group['conversion'] = df_by_country_group['quantity_lag'] / df_by_country_group['quantity']\n",
    "df_by_country_group"
   ]
  },
  {
   "cell_type": "code",
   "execution_count": 241,
   "id": "368570e0-ec49-48ac-ae60-d9d6ceb69c99",
   "metadata": {},
   "outputs": [
    {
     "name": "stderr",
     "output_type": "stream",
     "text": [
      "C:\\Users\\Anastasia\\PycharmProjects\\pythonProject\\venv\\lib\\site-packages\\seaborn\\axisgrid.py:118: UserWarning: The figure layout has changed to tight\n",
      "  self._figure.tight_layout(*args, **kwargs)\n"
     ]
    },
    {
     "data": {
      "text/plain": [
       "<seaborn.axisgrid.FacetGrid at 0x2050805b280>"
      ]
     },
     "execution_count": 241,
     "metadata": {},
     "output_type": "execute_result"
    },
    {
     "data": {
      "image/png": "[encoded data removed]",
      "text/plain": [
       "<Figure size 600x400 with 3 Axes>"
      ]
     },
     "metadata": {},
     "output_type": "display_data"
    }
   ],
   "source": [
    "sns.catplot(\n",
    "    df_by_country_group, kind=\"bar\",\n",
    "    x=\"converted\", y=\"quantity\", col=\"country\",\n",
    "    height=4, aspect=.5,\n",
    ")"
   ]
  },
  {
   "cell_type": "markdown",
   "id": "e471a994-0f9e-4e2d-8883-d19124e5139c",
   "metadata": {},
   "source": [
    "#### Доля пользователей по странам в каждой из групп"
   ]
  },
  {
   "cell_type": "markdown",
   "id": "de91e5a1-4d4f-4a49-9ead-b78e859eda0b",
   "metadata": {},
   "source": [
    "#### Контрольная группа"
   ]
  },
  {
   "cell_type": "code",
   "execution_count": 214,
   "id": "5b560e59-4803-4273-a382-39ad7229e238",
   "metadata": {},
   "outputs": [],
   "source": [
    "df_control = df[df['group'] == 'control']"
   ]
  },
  {
   "cell_type": "code",
   "execution_count": 231,
   "id": "9a172bad-ba3d-443a-8d96-882f79ca5c72",
   "metadata": {},
   "outputs": [
    {
     "data": {
      "text/html": [
       "<div>\n",
       "<style scoped>\n",
       "    .dataframe tbody tr th:only-of-type {\n",
       "        vertical-align: middle;\n",
       "    }\n",
       "\n",
       "    .dataframe tbody tr th {\n",
       "        vertical-align: top;\n",
       "    }\n",
       "\n",
       "    .dataframe thead th {\n",
       "        text-align: right;\n",
       "    }\n",
       "</style>\n",
       "<table border=\"1\" class=\"dataframe\">\n",
       "  <thead>\n",
       "    <tr style=\"text-align: right;\">\n",
       "      <th></th>\n",
       "      <th>country</th>\n",
       "      <th>quantity</th>\n",
       "      <th>percent_from_total_control</th>\n",
       "    </tr>\n",
       "  </thead>\n",
       "  <tbody>\n",
       "    <tr>\n",
       "      <th>0</th>\n",
       "      <td>CA</td>\n",
       "      <td>7198</td>\n",
       "      <td>4.95</td>\n",
       "    </tr>\n",
       "    <tr>\n",
       "      <th>1</th>\n",
       "      <td>UK</td>\n",
       "      <td>36360</td>\n",
       "      <td>25.03</td>\n",
       "    </tr>\n",
       "    <tr>\n",
       "      <th>2</th>\n",
       "      <td>US</td>\n",
       "      <td>101716</td>\n",
       "      <td>70.02</td>\n",
       "    </tr>\n",
       "  </tbody>\n",
       "</table>\n",
       "</div>"
      ],
      "text/plain": [
       "  country  quantity  percent_from_total_control\n",
       "0      CA      7198                        4.95\n",
       "1      UK     36360                       25.03\n",
       "2      US    101716                       70.02"
      ]
     },
     "execution_count": 231,
     "metadata": {},
     "output_type": "execute_result"
    }
   ],
   "source": [
    "df_control_by_county = df_control.groupby('country').agg({'id': 'count'}).rename(columns={'id': 'quantity'}).reset_index()\n",
    "df_control_by_county['percent_from_total_control'] = (df_control_by_county['quantity'] / df_control_by_county['quantity'] .sum() * 100).round(2)\n",
    "df_control_by_county"
   ]
  },
  {
   "cell_type": "code",
   "execution_count": 265,
   "id": "9178e079-2e68-46fc-b0d1-df057b35beba",
   "metadata": {},
   "outputs": [
    {
     "data": {
      "image/png": "[encoded data removed]",
      "text/plain": [
       "<Figure size 640x480 with 1 Axes>"
      ]
     },
     "metadata": {},
     "output_type": "display_data"
    }
   ],
   "source": [
    "colors = sns.color_palette('pastel')[7:10]\n",
    "plt.pie(df_control_by_county['quantity'].to_list(), labels = ['CA', 'UK', 'US'], colors = colors, autopct='%.2f%%')\n",
    "plt.show()"
   ]
  },
  {
   "cell_type": "markdown",
   "id": "ad997811-678e-4790-bef7-3999d2486a0f",
   "metadata": {},
   "source": [
    "#### Тестовая группа"
   ]
  },
  {
   "cell_type": "code",
   "execution_count": 233,
   "id": "1c648f69-f489-4990-a3b4-448d67b215cc",
   "metadata": {},
   "outputs": [
    {
     "data": {
      "text/html": [
       "<div>\n",
       "<style scoped>\n",
       "    .dataframe tbody tr th:only-of-type {\n",
       "        vertical-align: middle;\n",
       "    }\n",
       "\n",
       "    .dataframe tbody tr th {\n",
       "        vertical-align: top;\n",
       "    }\n",
       "\n",
       "    .dataframe thead th {\n",
       "        text-align: right;\n",
       "    }\n",
       "</style>\n",
       "<table border=\"1\" class=\"dataframe\">\n",
       "  <thead>\n",
       "    <tr style=\"text-align: right;\">\n",
       "      <th></th>\n",
       "      <th>country</th>\n",
       "      <th>quantity</th>\n",
       "      <th>percent_from_total_treatment</th>\n",
       "    </tr>\n",
       "  </thead>\n",
       "  <tbody>\n",
       "    <tr>\n",
       "      <th>0</th>\n",
       "      <td>CA</td>\n",
       "      <td>7198</td>\n",
       "      <td>4.95</td>\n",
       "    </tr>\n",
       "    <tr>\n",
       "      <th>1</th>\n",
       "      <td>UK</td>\n",
       "      <td>36360</td>\n",
       "      <td>25.03</td>\n",
       "    </tr>\n",
       "    <tr>\n",
       "      <th>2</th>\n",
       "      <td>US</td>\n",
       "      <td>101716</td>\n",
       "      <td>70.02</td>\n",
       "    </tr>\n",
       "  </tbody>\n",
       "</table>\n",
       "</div>"
      ],
      "text/plain": [
       "  country  quantity  percent_from_total_treatment\n",
       "0      CA      7198                          4.95\n",
       "1      UK     36360                         25.03\n",
       "2      US    101716                         70.02"
      ]
     },
     "execution_count": 233,
     "metadata": {},
     "output_type": "execute_result"
    }
   ],
   "source": [
    "df_treatment = df[df['group'] == 'treatment']\n",
    "df_treatment_by_county = df_control.groupby('country').agg({'id': 'count'}).rename(columns={'id': 'quantity'}).reset_index()\n",
    "df_treatment_by_county['percent_from_total_treatment'] = (df_treatment_by_county['quantity'] / df_control_by_county['quantity'] .sum() * 100).round(2)\n",
    "df_treatment_by_county"
   ]
  },
  {
   "cell_type": "code",
   "execution_count": 266,
   "id": "a000bf4b-37ba-4fc2-a64e-e84a65749a00",
   "metadata": {},
   "outputs": [
    {
     "data": {
      "image/png": "[encoded data removed]",
      "text/plain": [
       "<Figure size 640x480 with 1 Axes>"
      ]
     },
     "metadata": {},
     "output_type": "display_data"
    }
   ],
   "source": [
    "plt.pie(df_control_by_county['quantity'].to_list(), labels = ['CA', 'UK', 'US'], colors = colors, autopct='%.2f%%')\n",
    "plt.show()"
   ]
  },
  {
   "cell_type": "code",
   "execution_count": 240,
   "id": "5a0f2909-573a-4bdf-bd88-218df4fcecd0",
   "metadata": {},
   "outputs": [
    {
     "data": {
      "text/html": [
       "<div>\n",
       "<style scoped>\n",
       "    .dataframe tbody tr th:only-of-type {\n",
       "        vertical-align: middle;\n",
       "    }\n",
       "\n",
       "    .dataframe tbody tr th {\n",
       "        vertical-align: top;\n",
       "    }\n",
       "\n",
       "    .dataframe thead th {\n",
       "        text-align: right;\n",
       "    }\n",
       "</style>\n",
       "<table border=\"1\" class=\"dataframe\">\n",
       "  <thead>\n",
       "    <tr style=\"text-align: right;\">\n",
       "      <th></th>\n",
       "      <th>country</th>\n",
       "      <th>control, %</th>\n",
       "      <th>treatment, %</th>\n",
       "    </tr>\n",
       "  </thead>\n",
       "  <tbody>\n",
       "    <tr>\n",
       "      <th>0</th>\n",
       "      <td>CA</td>\n",
       "      <td>4.95</td>\n",
       "      <td>4.95</td>\n",
       "    </tr>\n",
       "    <tr>\n",
       "      <th>1</th>\n",
       "      <td>UK</td>\n",
       "      <td>25.03</td>\n",
       "      <td>25.03</td>\n",
       "    </tr>\n",
       "    <tr>\n",
       "      <th>2</th>\n",
       "      <td>US</td>\n",
       "      <td>70.02</td>\n",
       "      <td>70.02</td>\n",
       "    </tr>\n",
       "  </tbody>\n",
       "</table>\n",
       "</div>"
      ],
      "text/plain": [
       "  country  control, %  treatment, %\n",
       "0      CA        4.95          4.95\n",
       "1      UK       25.03         25.03\n",
       "2      US       70.02         70.02"
      ]
     },
     "execution_count": 240,
     "metadata": {},
     "output_type": "execute_result"
    }
   ],
   "source": [
    "df_share = df_control_by_county.merge(df_treatment_by_county, how='inner', left_on='country', right_on='country')\\\n",
    "[['country', 'percent_from_total_control', 'percent_from_total_treatment']].\\\n",
    "rename(columns={'percent_from_total_control': 'control, %', 'percent_from_total_treatment': 'treatment, %'})\n",
    "df_share\n",
    "\n",
    "# Процент наблюдений в каждой группе по странам от общего количества наблюдений в группе"
   ]
  },
  {
   "cell_type": "markdown",
   "id": "d296430a-3e6c-4e8b-8f45-b6bc2c0cd9a2",
   "metadata": {},
   "source": [
    "Нет межстрановых различий в двух выборках, в каждую из групп попал одинаковый процент наблюдений в зависимости от страны пользователя"
   ]
  },
  {
   "cell_type": "markdown",
   "id": "da0ea131-2bfe-457c-9a81-ef2357aa889e",
   "metadata": {},
   "source": [
    "## 4. A/B Testing"
   ]
  },
  {
   "cell_type": "markdown",
   "id": "6aabfd19-fc88-4cc0-a716-1b77a15a16d1",
   "metadata": {},
   "source": [
    "#### Достаточно ли наблюдений"
   ]
  },
  {
   "cell_type": "raw",
   "id": "7678d2f3-b207-4305-9bdd-519f2c7d9275",
   "metadata": {},
   "source": [
    "Рассчитаем размер выборки для одной группы, необходимый для различных базовых показателей конверсии (BCR) и минимальных детектируемых изменений (MDE)"
   ]
  },
  {
   "cell_type": "code",
   "execution_count": 267,
   "id": "48138041-8a8f-41b9-868c-d3c2685bb96f",
   "metadata": {},
   "outputs": [
    {
     "name": "stdout",
     "output_type": "stream",
     "text": [
      "Необходимый размер выборки для каждой группы: 17211\n",
      "Общий необходимый размер выборки: 34422\n"
     ]
    }
   ],
   "source": [
    "alpha = 0.05  # уровень значимости\n",
    "power = 0.80  # мощность теста\n",
    "p1 = converted_control_percent / 100     # текущая конверсия (контрольная группа)\n",
    "effect = 0.01 # ожидемый эффект\n",
    "p2 = p1 + effect  # конверсии в тестовой группе\n",
    "\n",
    "# Критические значения Z\n",
    "z_alpha = stats.norm.ppf(1 - alpha / 2)  # Z для двустороннего теста\n",
    "z_beta = stats.norm.ppf(power)             # Z для мощности\n",
    "\n",
    "# Расчет размера выборки\n",
    "numerator = (z_alpha + z_beta) ** 2 * (p1 * (1 - p1) + p2 * (1 - p2))\n",
    "denominator = (p2 - p1) ** 2\n",
    "sample_size = numerator / denominator\n",
    "\n",
    "# Поскольку мы хотим количество участников для каждой группы\n",
    "total_sample_size = int(np.ceil(sample_size))\n",
    "\n",
    "print(f'Необходимый размер выборки для каждой группы: {total_sample_size}')\n",
    "print(f'Общий необходимый размер выборки: {total_sample_size * 2}')"
   ]
  },
  {
   "cell_type": "code",
   "execution_count": 251,
   "id": "0a954708-3dcb-4737-832f-979627389d00",
   "metadata": {},
   "outputs": [
    {
     "name": "stdout",
     "output_type": "stream",
     "text": [
      "Количество наблюдений в нашей выборке 290584 превышает минимально необходимое количество наблюдений 34422 для отслеживания измерений в 1%\n"
     ]
    }
   ],
   "source": [
    "print(f'Количество наблюдений в нашей выборке {total_num} превышает минимально необходимое количество наблюдений {total_sample_size * 2}\\\n",
    " для отслеживания измерений в 1%')"
   ]
  },
  {
   "cell_type": "markdown",
   "id": "550e9c08-9ec1-47d3-a3ed-9e0e1b45f12f",
   "metadata": {},
   "source": [
    "#### Гипотезы"
   ]
  },
  {
   "cell_type": "raw",
   "id": "9aad78da-20ea-4721-ac3f-6c480df568d5",
   "metadata": {},
   "source": [
    "Н0: converted_control_percent = converted_treatment_percent  - Нет различий в конверсии просмотра в покупку для старой и новой лендинговой страницы\n",
    "Н1: converted_control_percent != converted_treatment_percent - Есть различия в конверсии для старой и новой лендинговой страницы"
   ]
  },
  {
   "cell_type": "code",
   "execution_count": 263,
   "id": "be1e0611-7ec5-47d1-8de3-c495afbfb788",
   "metadata": {},
   "outputs": [
    {
     "name": "stdout",
     "output_type": "stream",
     "text": [
      "Конверсия для группы контрольной группы: 0.12038630450046121\n",
      "Конверсия для группы тестовой группы: 0.11880806551510564\n",
      "p-значение:  0.18988337448194703\n",
      "Не можем отвергнуть нулевую гипотезу, нет оснований считать значения разными\n"
     ]
    }
   ],
   "source": [
    "print(f'Конверсия для группы контрольной группы: {converted_control_percent / 100}')\n",
    "print(f'Конверсия для группы тестовой группы: {converted_treatment_percent / 100}')\n",
    "\n",
    "# рассчитаем конверсию в комбинированном датасете\n",
    "conversion_combined = (sum(df['converted']))/(df['id'].count())\n",
    "\n",
    "# рассчитаем разницу пропорций\n",
    "difference = converted_control_percent/ 100 - converted_treatment_percent/100\n",
    "\n",
    "# рассчитаем статистику в ст.отклонениях стандартного нормального распределения\n",
    "z_value = difference / sqrt(conversion_combined * (1 - conversion_combined) * \n",
    "                                    (1/control_num + 1/treatment_num))\n",
    "distr = stats.norm(0, 1)  \n",
    "\n",
    "p_value = (1 - distr.cdf(abs(z_value))) * 2\n",
    "print('p-value: ', p_value)\n",
    "\n",
    "if p_value < alpha:\n",
    "    print('Отвергаем нулевую гипотезу: между значениями есть значимая разница')\n",
    "else:\n",
    "    print('Не можем отвергнуть нулевую гипотезу, нет оснований считать значения разными') "
   ]
  },
  {
   "cell_type": "markdown",
   "id": "36b096b5-5bac-41d1-9365-d86aa55cfc58",
   "metadata": {},
   "source": [
    "## 5. Выводы"
   ]
  },
  {
   "cell_type": "markdown",
   "id": "ea4b7793-6b25-4da7-bc1a-935c7e8eab72",
   "metadata": {
    "vscode": {
     "languageId": "raw"
    }
   },
   "source": [
    "Полученное p-value равно 0,19 и превышает пороговое значение альфа = 0,05, не  можем отвергнуть нулевую гипотезу о равенстве конверсий для новой и сторой лендинговых страниц."
   ]
  },
  {
   "cell_type": "markdown",
   "id": "72feb88e-33c4-4a21-8e75-05c8c34ac1a6",
   "metadata": {},
   "source": [
    "Рекомендации:\n",
    "1) Оставить старую лендинговую страницу\n",
    "2) Внести новые изменения на странице и продолжить исследования (в зависимости от стоимости эксперимента)\n",
    "3) Можно продолжить исследования с посмотреть, если ли разница в конверсии для конкретных стран. Для Канады выборка не достаточная для отслеживания изменений в 1%, но для США и Великобритании достаточно наблюдений для проведения теста. Возможно есть межстрановые особенности в поведении пользователей и для одной из стран конверсия для новой страницы будет отличаться от старой.\n",
    "Полученное p-value равно 0,19 и превышает пороговое значение альфа = 0,05, не  можем отвергнуть нулевую гипотезу о равенстве конверсий для новой и сторой лендинговых страниц."
   ]
  },
  {
   "cell_type": "markdown",
   "id": "01893c5e-d4b2-4b65-9058-5c6d71883ecd",
   "metadata": {},
   "source": [
    "Рекомендации:\n",
    "1) Оставить старую лендинговую страницу\n",
    "2) Внести новые изменения на странице и продолжить исследования (в зависимости от стоимости эксперимента)\n",
    "3) Можно продолжить исследования с посмотреть, если ли разница в конверсии для конкретных стран. Для Канады выборка не достаточная для отслеживания изменений в 1%, но для США и Великобритании достаточно наблюдений для проведения теста. Возможно есть межстрановые особенности в поведении пользователей и для одной из стран конверсия для новой страницы будет отличаться от старой."
   ]
  }
 ],
 "metadata": {
  "kernelspec": {
   "display_name": "Python 3 (ipykernel)",
   "language": "python",
   "name": "python3"
  },
  "language_info": {
   "codemirror_mode": {
    "name": "ipython",
    "version": 3
   },
   "file_extension": ".py",
   "mimetype": "text/x-python",
   "name": "python",
   "nbconvert_exporter": "python",
   "pygments_lexer": "ipython3",
   "version": "3.9.13"
  }
 },
 "nbformat": 4,
 "nbformat_minor": 5
}
